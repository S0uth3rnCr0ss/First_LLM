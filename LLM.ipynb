{
 "cells": [
  {
   "cell_type": "markdown",
   "id": "b8ad44f1-3872-430b-bcaa-4f9a5e52f928",
   "metadata": {},
   "source": [
    "# Creating Tokens"
   ]
  },
  {
   "cell_type": "code",
   "execution_count": 222,
   "id": "ae8fe43a-5541-45a0-8575-bb9748127291",
   "metadata": {},
   "outputs": [
    {
     "name": "stdout",
     "output_type": "stream",
     "text": [
      "Total number of characters: 20480\n",
      "I HAD always thought Jack Gisburn rather a cheap genius--though a good fellow enough--so it was no \n"
     ]
    }
   ],
   "source": [
    "with open(\"the-verdict(1).txt\",\"r\",encoding=\"utf-8\") as f:\n",
    "    raw_text = f.read()\n",
    "\n",
    "print(\"Total number of characters:\", len(raw_text))\n",
    "print(raw_text[:99])"
   ]
  },
  {
   "cell_type": "markdown",
   "id": "9182066d-d9f3-4fa6-b87e-7154d4054aa1",
   "metadata": {},
   "source": [
    "#### Goal is to tokenize all the characters in the txt file that can be later turned into embeddings for LLMs"
   ]
  },
  {
   "cell_type": "code",
   "execution_count": 224,
   "id": "e3dc1305-19fb-4d6c-933f-0ba36aceb8ef",
   "metadata": {},
   "outputs": [
    {
     "name": "stdout",
     "output_type": "stream",
     "text": [
      "['Hello,', ' ', 'world.', ' ', 'This,', ' ', 'is', ' ', 'a', ' ', 'test.']\n"
     ]
    }
   ],
   "source": [
    "import re\n",
    "\n",
    "text = \"Hello, world. This, is a test.\"\n",
    "result = re.split(r'(\\s)',text)\n",
    "\n",
    "print(result) # result of individual words , whitespaces an punctuation characters"
   ]
  },
  {
   "cell_type": "code",
   "execution_count": 225,
   "id": "287c47de-210b-4d3e-a09e-b17fc7b416da",
   "metadata": {},
   "outputs": [
    {
     "name": "stdout",
     "output_type": "stream",
     "text": [
      "['Hello', ',', '', ' ', 'world', '.', '', ' ', 'This', ',', '', ' ', 'is', ' ', 'a', ' ', 'test', '.', '']\n"
     ]
    }
   ],
   "source": [
    "result = re.split(r'([,.]|\\s)',text)\n",
    "print(result)"
   ]
  },
  {
   "cell_type": "code",
   "execution_count": 226,
   "id": "d781b618-d967-4c7f-8804-87a19114baf7",
   "metadata": {},
   "outputs": [
    {
     "name": "stdout",
     "output_type": "stream",
     "text": [
      "['Hello', ',', 'world', '.', 'This', ',', 'is', 'a', 'test', '.']\n"
     ]
    }
   ],
   "source": [
    "# This will prevent the spaces to be considered as tokens\n",
    "result = [item for item in result if item.strip()]\n",
    "print(result)"
   ]
  },
  {
   "cell_type": "code",
   "execution_count": 227,
   "id": "590ce4e3-324e-4e72-9282-2ab898c8b46a",
   "metadata": {},
   "outputs": [
    {
     "name": "stdout",
     "output_type": "stream",
     "text": [
      "['Hello', ',', 'world', '.', 'Is', 'this', '--', 'a', 'test', '?']\n"
     ]
    }
   ],
   "source": [
    "text = \"Hello, world. Is this-- a test?\"\n",
    "\n",
    "result = re.split(r'([,.:;?_!\"()|\\-\\s]+)', text)\n",
    "result = [item.strip() for item in result if item.strip()]\n",
    "print(result)\n"
   ]
  },
  {
   "cell_type": "code",
   "execution_count": 228,
   "id": "737a0a9d-1c0c-4464-bd62-28c70ebc4f10",
   "metadata": {},
   "outputs": [
    {
     "name": "stdout",
     "output_type": "stream",
     "text": [
      "['I', 'HAD', 'always', 'thought', 'Jack', 'Gisburn', 'rather', 'a', 'cheap', 'genius', '-', '-', 'though', 'a', 'good', 'fellow', 'enough', '-', '-', 'so', 'it', 'was', 'no', 'great', 'surprise', 'to', 'me', 'to', 'hear', 'that']\n"
     ]
    }
   ],
   "source": [
    "preprocessed = re.split(r'([,.:;?_!\"()|\\-\\s])',raw_text)\n",
    "preprocessed = [item.strip() for item in preprocessed if item.strip()]\n",
    "\n",
    "print(preprocessed[:30])"
   ]
  },
  {
   "cell_type": "code",
   "execution_count": 229,
   "id": "b01ecb03-c158-4b00-b172-abd3d2c817e9",
   "metadata": {},
   "outputs": [
    {
     "name": "stdout",
     "output_type": "stream",
     "text": [
      "4692\n"
     ]
    }
   ],
   "source": [
    "print(len(preprocessed))"
   ]
  },
  {
   "cell_type": "markdown",
   "id": "8394af55-88db-42d9-b260-f1daa17ef874",
   "metadata": {},
   "source": [
    " # Creating Token IDs"
   ]
  },
  {
   "cell_type": "code",
   "execution_count": 231,
   "id": "5bf063b3-59c6-408d-92c4-a25baaf1cace",
   "metadata": {},
   "outputs": [
    {
     "name": "stdout",
     "output_type": "stream",
     "text": [
      "1163\n"
     ]
    }
   ],
   "source": [
    "all_words = sorted(set(preprocessed))\n",
    "vocab_size = len(all_words)\n",
    "\n",
    "print(vocab_size)"
   ]
  },
  {
   "cell_type": "code",
   "execution_count": 232,
   "id": "bdaa5afb-a8a4-4dab-8847-c3fd665bcfa9",
   "metadata": {},
   "outputs": [],
   "source": [
    " vocab = {token:integer for integer, token in enumerate(all_words)}"
   ]
  },
  {
   "cell_type": "code",
   "execution_count": 233,
   "id": "43c113bc-7311-4017-80cb-bd89e1a93e7c",
   "metadata": {},
   "outputs": [
    {
     "name": "stdout",
     "output_type": "stream",
     "text": [
      "('!', 0)\n",
      "('\"', 1)\n",
      "(\"'\", 2)\n",
      "(\"'Are\", 3)\n",
      "(\"'It's\", 4)\n",
      "(\"'coming'\", 5)\n",
      "(\"'done'\", 6)\n",
      "(\"'subject\", 7)\n",
      "(\"'technique'\", 8)\n",
      "(\"'way\", 9)\n",
      "('(', 10)\n",
      "(')', 11)\n",
      "(',', 12)\n",
      "('-', 13)\n",
      "('.', 14)\n",
      "(':', 15)\n",
      "(';', 16)\n",
      "('?', 17)\n",
      "('A', 18)\n",
      "('Ah', 19)\n",
      "('Among', 20)\n",
      "('And', 21)\n",
      "('Arrt', 22)\n",
      "('As', 23)\n",
      "('At', 24)\n",
      "('Be', 25)\n",
      "('Begin', 26)\n",
      "('Burlington', 27)\n",
      "('But', 28)\n",
      "('By', 29)\n",
      "('Carlo', 30)\n",
      "('Chicago', 31)\n",
      "('Claude', 32)\n",
      "('Come', 33)\n",
      "('Croft', 34)\n",
      "('Destroyed', 35)\n",
      "('Devonshire', 36)\n",
      "(\"Don't\", 37)\n",
      "('Dubarry', 38)\n",
      "('Emperors', 39)\n",
      "('Florence', 40)\n",
      "('For', 41)\n",
      "('Gallery', 42)\n",
      "('Gideon', 43)\n",
      "('Gisburn', 44)\n",
      "(\"Gisburn's\", 45)\n",
      "('Gisburns', 46)\n",
      "('Grafton', 47)\n",
      "('Greek', 48)\n",
      "('Grindle', 49)\n",
      "(\"Grindle's\", 50)\n"
     ]
    }
   ],
   "source": [
    "for i, item in enumerate(vocab.items()):\n",
    "    print(item)\n",
    "    if i >= 50:\n",
    "        break "
   ]
  },
  {
   "cell_type": "code",
   "execution_count": 234,
   "id": "bdb7216a-e272-42e7-a6b2-ae0b7f4d18ff",
   "metadata": {},
   "outputs": [],
   "source": [
    "class SimpleTokenizer:\n",
    "    def __init__(self,vocab):\n",
    "        self.str_to_int = vocab\n",
    "        self.int_to_str = {i:s for s,i in vocab.items()}\n",
    "        \n",
    "    def encode(self,text):\n",
    "        preprocessed = re.split(r'([,.:;?_!\"()\\-\\s])',text)\n",
    "        processed = [\n",
    "            item.strip() for item in preprocessed if item.strip()\n",
    "        ]\n",
    "        ids = [self.str_to_int[s] for s in preprocessed if s.strip() and s in self.str_to_int]\n",
    "        return ids\n",
    "        \n",
    "    def decode(self,ids):\n",
    "        text = \" \".join([self.int_to_str[i] for i in ids])\n",
    "        # Replace spaces before the specified punctuations\n",
    "        text = re.sub(r's+([,.?!\"()\\'])',r'\\1', text)\n",
    "        return text"
   ]
  },
  {
   "cell_type": "markdown",
   "id": "173b1a85-ee36-4902-8b34-8ea53139b4bd",
   "metadata": {},
   "source": [
    "#### Instantiate a tokenizer object from the tokenizer class"
   ]
  },
  {
   "cell_type": "code",
   "execution_count": 236,
   "id": "31fa9c14-8701-4051-afd1-d0deea297080",
   "metadata": {},
   "outputs": [
    {
     "name": "stdout",
     "output_type": "stream",
     "text": [
      "[1, 1, 69, 1016, 627, 552, 772, 12, 1157, 621, 12, 1, 81, 14, 44, 879, 1046, 781, 822, 14]\n"
     ]
    }
   ],
   "source": [
    "tokenizer = SimpleTokenizer(vocab)\n",
    "\n",
    "text = \"\"\"\"\" It's the last he painted, you know,\"\n",
    "             Mrs. Gisburn said to pardonable pride.\"\"\"\n",
    "\n",
    "ids = tokenizer.encode(text)\n",
    "print(ids)"
   ]
  },
  {
   "cell_type": "code",
   "execution_count": 237,
   "id": "541eaad4-5f71-4a69-a410-84f5e2889713",
   "metadata": {},
   "outputs": [
    {
     "data": {
      "text/plain": [
       "'\" \" It\\'s the last he painted , you know , \" Mrs . Gisburn said to pardonable pride .'"
      ]
     },
     "execution_count": 237,
     "metadata": {},
     "output_type": "execute_result"
    }
   ],
   "source": [
    "tokenizer.decode(ids)"
   ]
  },
  {
   "cell_type": "markdown",
   "id": "6bf1f709-3392-4091-a123-8446fcc6f103",
   "metadata": {},
   "source": [
    "# Special Context Tokens\n",
    "\n",
    "### These are something that are used to deal with the unknown words which\n",
    "### are not present in the training vocubulary or training data."
   ]
  },
  {
   "cell_type": "markdown",
   "id": "7e1ab7f8-d181-401c-ad92-717ace99485d",
   "metadata": {},
   "source": [
    "#### Here simpleTokenizer is modified"
   ]
  },
  {
   "cell_type": "code",
   "execution_count": 240,
   "id": "ea82aece-98dd-4a87-94a1-7ace6d76ecfd",
   "metadata": {},
   "outputs": [],
   "source": [
    "all_tokens = sorted(list(set(preprocessed)))\n",
    "all_tokens.extend([\"<|endoftext|>\",\"<|unk|>\"])\n",
    "\n",
    "vocab = {token:integer for integer, token in enumerate(all_tokens)}"
   ]
  },
  {
   "cell_type": "code",
   "execution_count": 241,
   "id": "3d5e8d61-9d17-46c9-8537-9ea311aa7392",
   "metadata": {},
   "outputs": [
    {
     "data": {
      "text/plain": [
       "1165"
      ]
     },
     "execution_count": 241,
     "metadata": {},
     "output_type": "execute_result"
    }
   ],
   "source": [
    "len(vocab.items())"
   ]
  },
  {
   "cell_type": "code",
   "execution_count": 242,
   "id": "73f68880-f09d-4dbd-a6ec-21b019fdf250",
   "metadata": {},
   "outputs": [
    {
     "name": "stdout",
     "output_type": "stream",
     "text": [
      "('yourself', 1162)\n",
      "('<|endoftext|>', 1163)\n",
      "('<|unk|>', 1164)\n"
     ]
    }
   ],
   "source": [
    "for i, item in enumerate(list(vocab.items())[-3:]):\n",
    "    print(item)"
   ]
  },
  {
   "cell_type": "code",
   "execution_count": 243,
   "id": "946936d1-0069-4709-bf6c-eda8858db2d5",
   "metadata": {},
   "outputs": [],
   "source": [
    "# Modification in SimpleTokenizer\n",
    "\n",
    "class SimpleTokenizerV2:\n",
    "    def __init__(self,vocab):\n",
    "        self.str_to_int = vocab\n",
    "        self.int_to_str = {i: s for s, i in vocab.items()}\n",
    "        \n",
    "    def encode(self,text):\n",
    "        preprocessed = re.split(r'([,.:;?_!\"()\\-\\s])',text)\n",
    "        preprocessed = [item.strip() for item in preprocessed if item.strip()]\n",
    "        preprocessed = [\n",
    "            item if item in self.str_to_int\n",
    "            else \"<|unk|>\" for item in preprocessed \n",
    "        ]\n",
    "        ids = [self.str_to_int[s] for s in preprocessed if s.strip() and s in self.str_to_int]\n",
    "        return ids\n",
    "        \n",
    "    def decode(self, ids):\n",
    "        text = \" \".join([self.int_to_str[i] for i in ids])\n",
    "        # Replace spaces before the specified punctuations\n",
    "        text = re.sub(r'\\s+([,.:;?!\"()\\'])', r'\\1', text)\n",
    "        return text"
   ]
  },
  {
   "cell_type": "code",
   "execution_count": 244,
   "id": "bd5d952e-959f-4829-8cf1-738ad7ef86b7",
   "metadata": {},
   "outputs": [
    {
     "name": "stdout",
     "output_type": "stream",
     "text": [
      "Hello, do you like tea? <|endoftext|> in the sunlit terrace of the palace.\n"
     ]
    }
   ],
   "source": [
    "tokenizer = SimpleTokenizerV2(vocab)\n",
    "\n",
    "text1 = \"Hello, do you like tea?\"\n",
    "text2 = \"in the sunlit terrace of the palace.\"\n",
    "\n",
    "text = \" <|endoftext|> \".join((text1,text2))\n",
    "\n",
    "print(text)\n"
   ]
  },
  {
   "cell_type": "code",
   "execution_count": 245,
   "id": "e21f4d11-4be9-402b-aed8-a9fd6f36a26f",
   "metadata": {},
   "outputs": [
    {
     "data": {
      "text/plain": [
       "[1164,\n",
       " 12,\n",
       " 378,\n",
       " 1157,\n",
       " 653,\n",
       " 1004,\n",
       " 17,\n",
       " 1163,\n",
       " 592,\n",
       " 1016,\n",
       " 986,\n",
       " 1011,\n",
       " 748,\n",
       " 1016,\n",
       " 1164,\n",
       " 14]"
      ]
     },
     "execution_count": 245,
     "metadata": {},
     "output_type": "execute_result"
    }
   ],
   "source": [
    "tokenizer.encode(text)"
   ]
  },
  {
   "cell_type": "code",
   "execution_count": 246,
   "id": "283c618d-2ff4-4075-a79b-4cc876b28898",
   "metadata": {},
   "outputs": [
    {
     "data": {
      "text/plain": [
       "'<|unk|>, do you like tea? <|endoftext|> in the sunlit terrace of the <|unk|>.'"
      ]
     },
     "execution_count": 246,
     "metadata": {},
     "output_type": "execute_result"
    }
   ],
   "source": [
    "tokenizer.decode(tokenizer.encode(text))"
   ]
  },
  {
   "cell_type": "markdown",
   "id": "efde5f4a-65bf-4dd7-937d-204fbbb0960a",
   "metadata": {},
   "source": [
    "# Byte Pair Encoding"
   ]
  },
  {
   "cell_type": "code",
   "execution_count": 248,
   "id": "50539023-c281-45c2-9df6-12ec8ff57b2c",
   "metadata": {},
   "outputs": [
    {
     "name": "stdout",
     "output_type": "stream",
     "text": [
      "Requirement already satisfied: tiktoken in c:\\users\\abhin\\downloads\\sensorproject01-main (1)\\sensorproject01-main\\venv\\lib\\site-packages (0.7.0)\n",
      "Requirement already satisfied: regex>=2022.1.18 in c:\\users\\abhin\\downloads\\sensorproject01-main (1)\\sensorproject01-main\\venv\\lib\\site-packages (from tiktoken) (2024.11.6)\n",
      "Requirement already satisfied: requests>=2.26.0 in c:\\users\\abhin\\downloads\\sensorproject01-main (1)\\sensorproject01-main\\venv\\lib\\site-packages (from tiktoken) (2.32.3)\n",
      "Requirement already satisfied: charset-normalizer<4,>=2 in c:\\users\\abhin\\downloads\\sensorproject01-main (1)\\sensorproject01-main\\venv\\lib\\site-packages (from requests>=2.26.0->tiktoken) (3.3.2)\n",
      "Requirement already satisfied: idna<4,>=2.5 in c:\\users\\abhin\\downloads\\sensorproject01-main (1)\\sensorproject01-main\\venv\\lib\\site-packages (from requests>=2.26.0->tiktoken) (3.10)\n",
      "Requirement already satisfied: urllib3<3,>=1.21.1 in c:\\users\\abhin\\downloads\\sensorproject01-main (1)\\sensorproject01-main\\venv\\lib\\site-packages (from requests>=2.26.0->tiktoken) (1.26.20)\n",
      "Requirement already satisfied: certifi>=2017.4.17 in c:\\users\\abhin\\downloads\\sensorproject01-main (1)\\sensorproject01-main\\venv\\lib\\site-packages (from requests>=2.26.0->tiktoken) (2024.8.30)\n"
     ]
    }
   ],
   "source": [
    "!pip install tiktoken"
   ]
  },
  {
   "cell_type": "code",
   "execution_count": 249,
   "id": "fd5390ad-624f-4055-9262-0f01058768b8",
   "metadata": {},
   "outputs": [],
   "source": [
    "import importlib\n",
    "import tiktoken"
   ]
  },
  {
   "cell_type": "code",
   "execution_count": 250,
   "id": "8f95c92b-f628-4f20-8597-addc361ed420",
   "metadata": {},
   "outputs": [],
   "source": [
    "tokenizer = tiktoken.get_encoding(\"gpt2\")"
   ]
  },
  {
   "cell_type": "code",
   "execution_count": 251,
   "id": "97371d85-146d-4a55-ad54-e490d3fa331f",
   "metadata": {},
   "outputs": [
    {
     "name": "stdout",
     "output_type": "stream",
     "text": [
      "[15496, 466, 345, 588, 8887, 30, 220, 50256, 554, 262, 4252, 18250, 8812, 2114, 1659, 617, 34680, 27271, 13]\n"
     ]
    }
   ],
   "source": [
    "text = (\n",
    "    \"Hello do you like tea? <|endoftext|> In the sunlit terraces\"\n",
    "    \"of someunknownPlace.\"\n",
    ")\n",
    "\n",
    "integers = tokenizer.encode(text, allowed_special={\"<|endoftext|>\"})\n",
    "\n",
    "print(integers)"
   ]
  },
  {
   "cell_type": "code",
   "execution_count": 252,
   "id": "b037f413-5159-4b28-92f0-fc0c96f69375",
   "metadata": {},
   "outputs": [
    {
     "name": "stdout",
     "output_type": "stream",
     "text": [
      "Hello do you like tea? <|endoftext|> In the sunlit terracesof someunknownPlace.\n"
     ]
    }
   ],
   "source": [
    "strings = tokenizer.decode(integers)\n",
    "print(strings)"
   ]
  },
  {
   "cell_type": "markdown",
   "id": "053c51e5-b97d-4da1-bb6e-b1d4c4e8a3f3",
   "metadata": {},
   "source": [
    "# Creating Input-Target Pairs"
   ]
  },
  {
   "cell_type": "code",
   "execution_count": 254,
   "id": "76f73035-7875-4834-8350-8d548af1f038",
   "metadata": {},
   "outputs": [
    {
     "name": "stdout",
     "output_type": "stream",
     "text": [
      "5146\n"
     ]
    }
   ],
   "source": [
    "with open(\"the-verdict(1).txt\",\"r\",encoding=\"utf-8\") as f:\n",
    "    raw_text = f.read()\n",
    "\n",
    "enc_text = tokenizer.encode(raw_text)\n",
    "print(len(enc_text))"
   ]
  },
  {
   "cell_type": "code",
   "execution_count": 255,
   "id": "55f2acce-0b25-4ed0-be07-458e5a35289e",
   "metadata": {},
   "outputs": [],
   "source": [
    "# Remove first 50 tokens from the dataset for demonstration purpose\n",
    "enc_sample = enc_text[50:]"
   ]
  },
  {
   "cell_type": "code",
   "execution_count": 256,
   "id": "42b3542d-1d86-4e15-b28d-3007ebe98d23",
   "metadata": {},
   "outputs": [
    {
     "name": "stdout",
     "output_type": "stream",
     "text": [
      "x: [290, 4920, 2241, 287]\n",
      "y:    [4920, 2241, 287, 257]\n"
     ]
    }
   ],
   "source": [
    "context_size = 4  #length of input\n",
    "\n",
    "x = enc_sample[:context_size]\n",
    "y = enc_sample[1:context_size+1]\n",
    "\n",
    "print(f\"x: {x}\")\n",
    "print(f\"y:    {y}\")"
   ]
  },
  {
   "cell_type": "code",
   "execution_count": 257,
   "id": "a14f1310-a186-4ebe-b424-1a90fe7c3472",
   "metadata": {},
   "outputs": [
    {
     "name": "stdout",
     "output_type": "stream",
     "text": [
      "[290] -----> 4920\n",
      "[290, 4920] -----> 2241\n",
      "[290, 4920, 2241] -----> 287\n",
      "[290, 4920, 2241, 287] -----> 257\n"
     ]
    }
   ],
   "source": [
    "for i in range(1, context_size+1):\n",
    "    context = enc_sample[:i] # Input the llm will recieve\n",
    "    desired = enc_sample[i] # Target\n",
    "    \n",
    "    print(context,\"----->\",desired)"
   ]
  },
  {
   "cell_type": "code",
   "execution_count": 258,
   "id": "f7748bc1-7c00-4198-ba86-37c70b811302",
   "metadata": {},
   "outputs": [
    {
     "name": "stdout",
     "output_type": "stream",
     "text": [
      " and ---->  established\n",
      " and established ---->  himself\n",
      " and established himself ---->  in\n",
      " and established himself in ---->  a\n"
     ]
    }
   ],
   "source": [
    "for i in range(1, context_size+1):\n",
    "    context = enc_sample[:i]\n",
    "    desired = enc_sample[i]\n",
    "    print(tokenizer.decode(context), \"---->\", tokenizer.decode([desired]))"
   ]
  },
  {
   "cell_type": "markdown",
   "id": "70df3091-548c-4076-bed7-2aaf4c49c4c4",
   "metadata": {},
   "source": [
    "# Implementing Dataset"
   ]
  },
  {
   "cell_type": "markdown",
   "id": "f78000c1-c817-475b-adc1-2933e6de852d",
   "metadata": {},
   "source": [
    "#### 1.Tokenize the entire text\n",
    "#### 2.Use the Sliding Window to chunk into overlapping sequences of max_length\n",
    "#### 3.Return the total number of rows in the dataset\n",
    "#### 4.Return a single row from the dataset"
   ]
  },
  {
   "cell_type": "code",
   "execution_count": 261,
   "id": "f06cdb2c-5444-4976-801e-4722d8e069af",
   "metadata": {},
   "outputs": [
    {
     "name": "stdout",
     "output_type": "stream",
     "text": [
      "Requirement already satisfied: torch in c:\\users\\abhin\\downloads\\sensorproject01-main (1)\\sensorproject01-main\\venv\\lib\\site-packages (2.4.1)\n",
      "Requirement already satisfied: filelock in c:\\users\\abhin\\downloads\\sensorproject01-main (1)\\sensorproject01-main\\venv\\lib\\site-packages (from torch) (3.16.1)\n",
      "Requirement already satisfied: typing-extensions>=4.8.0 in c:\\users\\abhin\\downloads\\sensorproject01-main (1)\\sensorproject01-main\\venv\\lib\\site-packages (from torch) (4.12.2)\n",
      "Requirement already satisfied: sympy in c:\\users\\abhin\\downloads\\sensorproject01-main (1)\\sensorproject01-main\\venv\\lib\\site-packages (from torch) (1.13.3)\n",
      "Requirement already satisfied: networkx in c:\\users\\abhin\\downloads\\sensorproject01-main (1)\\sensorproject01-main\\venv\\lib\\site-packages (from torch) (3.1)\n",
      "Requirement already satisfied: jinja2 in c:\\users\\abhin\\downloads\\sensorproject01-main (1)\\sensorproject01-main\\venv\\lib\\site-packages (from torch) (3.1.2)\n",
      "Requirement already satisfied: fsspec in c:\\users\\abhin\\downloads\\sensorproject01-main (1)\\sensorproject01-main\\venv\\lib\\site-packages (from torch) (2025.3.0)\n",
      "Requirement already satisfied: MarkupSafe>=2.0 in c:\\users\\abhin\\downloads\\sensorproject01-main (1)\\sensorproject01-main\\venv\\lib\\site-packages (from jinja2->torch) (2.1.5)\n",
      "Requirement already satisfied: mpmath<1.4,>=1.1.0 in c:\\users\\abhin\\downloads\\sensorproject01-main (1)\\sensorproject01-main\\venv\\lib\\site-packages (from sympy->torch) (1.3.0)\n"
     ]
    }
   ],
   "source": [
    "!pip install torch"
   ]
  },
  {
   "cell_type": "code",
   "execution_count": 262,
   "id": "e7985298-3d35-44b1-a00b-37469f7c75f4",
   "metadata": {},
   "outputs": [],
   "source": [
    "from torch.utils.data import Dataset, DataLoader\n",
    "\n",
    "class GPTDatasetV1(Dataset):\n",
    "    def __init__(self, txt, tokenizer, max_length, stride):\n",
    "        self.input_ids = []\n",
    "        self.target_ids = []\n",
    "\n",
    "        token_ids = tokenizer.encode(txt, allowed_special={\"<|endoftext|>\"})\n",
    "        \n",
    "        for i in range(0, len(token_ids) - max_length, stride):\n",
    "            input_chunk = token_ids[i:i+max_length]\n",
    "            target_chunk = token_ids[i+1: i + max_length+1]\n",
    "            self.input_ids.append(torch.tensor(input_chunk))\n",
    "            self.target_ids.append(torch.tensor(target_chunk))\n",
    "            \n",
    "    def __len__(self):\n",
    "        return len(self.input_ids)\n",
    "        \n",
    "    def __getitem__(self,idx):\n",
    "        return self.input_ids[idx], self.target_ids[idx]\n",
    "            \n",
    "        "
   ]
  },
  {
   "cell_type": "markdown",
   "id": "7534cce7-f32c-4b1d-b1fb-121175cf7947",
   "metadata": {},
   "source": [
    "cessing"
   ]
  },
  {
   "cell_type": "code",
   "execution_count": 264,
   "id": "1edb28f0-5752-4e70-8717-3e4621c10632",
   "metadata": {},
   "outputs": [],
   "source": [
    "def create_dataloader_v1(txt, batch_size=4, max_length=256,\n",
    "                          stride=128, shuffle=True, drop_last=True,\n",
    "                          num_workers=0):\n",
    "    # Initialize the tokenizer\n",
    "    tokenizer = tiktoken.get_encoding(\"gpt2\")\n",
    "\n",
    "    # create dataset\n",
    "    dataset = GPTDatasetV1(txt, tokenizer, max_length, stride)\n",
    "\n",
    "    # Create dataloader\n",
    "    dataloader = DataLoader(\n",
    "        dataset,\n",
    "        batch_size=batch_size,\n",
    "        shuffle=shuffle,\n",
    "        drop_last=drop_last,\n",
    "        num_workers = num_workers\n",
    "\n",
    "    )\n",
    "\n",
    "    \n",
    "    return dataloader"
   ]
  },
  {
   "cell_type": "code",
   "execution_count": 265,
   "id": "be940959-2bfd-49ad-a8bc-be03ac723bd6",
   "metadata": {},
   "outputs": [],
   "source": [
    "with open(\"the-verdict(1).txt\", \"r\", encoding=\"utf-8\") as f:\n",
    "    raw_text = f.read()"
   ]
  },
  {
   "cell_type": "markdown",
   "id": "e9992111-8758-4bfd-913b-0b0f50421ec2",
   "metadata": {},
   "source": [
    "#### Convert Dataloader into a Python iterator to fetch the next entry via Python's build-in next() function"
   ]
  },
  {
   "cell_type": "code",
   "execution_count": 267,
   "id": "9fa31cc9-beb8-4d1b-8e6e-87563d50e5e4",
   "metadata": {},
   "outputs": [
    {
     "name": "stdout",
     "output_type": "stream",
     "text": [
      "PyTorch version: 2.4.1+cpu\n",
      "[tensor([[  40,  367, 2885, 1464]]), tensor([[ 367, 2885, 1464, 1807]])]\n"
     ]
    }
   ],
   "source": [
    "import torch\n",
    "print(\"PyTorch version:\", torch.__version__)\n",
    "dataloader = create_dataloader_v1(\n",
    "    raw_text, batch_size=1, max_length=4, stride=1, shuffle=False\n",
    ")\n",
    "\n",
    "data_iter = iter(dataloader)\n",
    "first_batch = next(data_iter)\n",
    "print(first_batch)"
   ]
  },
  {
   "cell_type": "code",
   "execution_count": 268,
   "id": "16fc1bda-ad03-436f-9652-15c620f889a6",
   "metadata": {},
   "outputs": [
    {
     "name": "stdout",
     "output_type": "stream",
     "text": [
      "[tensor([[ 367, 2885, 1464, 1807]]), tensor([[2885, 1464, 1807, 3619]])]\n"
     ]
    }
   ],
   "source": [
    "second_batch = next(data_iter)\n",
    "print(second_batch)"
   ]
  },
  {
   "cell_type": "markdown",
   "id": "84c51821-842b-4d2b-aabc-ace22387aabc",
   "metadata": {},
   "source": [
    "#### The stride setting dictates the number of positions of inputs shift across batches, emulating a sliding window approach"
   ]
  },
  {
   "cell_type": "code",
   "execution_count": 270,
   "id": "2be237f3-2050-4c56-b0d2-e22bc96cd06b",
   "metadata": {},
   "outputs": [
    {
     "name": "stdout",
     "output_type": "stream",
     "text": [
      "Inputs:\n",
      " tensor([[   40,   367,  2885,  1464],\n",
      "        [ 1807,  3619,   402,   271],\n",
      "        [10899,  2138,   257,  7026],\n",
      "        [15632,   438,  2016,   257],\n",
      "        [  922,  5891,  1576,   438],\n",
      "        [  568,   340,   373,   645],\n",
      "        [ 1049,  5975,   284,   502],\n",
      "        [  284,  3285,   326,    11]])\n",
      "\n",
      "Targets:\n",
      " tensor([[  367,  2885,  1464,  1807],\n",
      "        [ 3619,   402,   271, 10899],\n",
      "        [ 2138,   257,  7026, 15632],\n",
      "        [  438,  2016,   257,   922],\n",
      "        [ 5891,  1576,   438,   568],\n",
      "        [  340,   373,   645,  1049],\n",
      "        [ 5975,   284,   502,   284],\n",
      "        [ 3285,   326,    11,   287]])\n"
     ]
    }
   ],
   "source": [
    "dataloader = create_dataloader_v1(raw_text, batch_size=8, max_length=4, stride=4, shuffle=False)\n",
    "\n",
    "data_iter = iter(dataloader)\n",
    "inputs, targets = next(data_iter)\n",
    "print(\"Inputs:\\n\",inputs)\n",
    "print(\"\\nTargets:\\n\",targets)"
   ]
  },
  {
   "cell_type": "markdown",
   "id": "b352aad0-eb81-4a31-af92-ece63e445419",
   "metadata": {},
   "source": [
    "# Token Embeddings"
   ]
  },
  {
   "cell_type": "code",
   "execution_count": 272,
   "id": "2c704c7d-ebc5-4f8f-9dce-78b45b42a0ff",
   "metadata": {},
   "outputs": [],
   "source": [
    "input_ids = torch.tensor([2,3,5,1])"
   ]
  },
  {
   "cell_type": "code",
   "execution_count": 273,
   "id": "0c45f91c-33af-4ca5-b029-c5e833659450",
   "metadata": {},
   "outputs": [],
   "source": [
    "vocab_size = 6 # Only 6 tokens are used instead of 50257 words\n",
    "output_dim = 3\n",
    "\n",
    "torch.manual_seed(123)\n",
    "embedding_layer = torch.nn.Embedding(vocab_size, output_dim)"
   ]
  },
  {
   "cell_type": "code",
   "execution_count": 274,
   "id": "2f8c6fce-e950-4ba8-a310-a8ca1e0a0a1b",
   "metadata": {},
   "outputs": [
    {
     "name": "stdout",
     "output_type": "stream",
     "text": [
      "Parameter containing:\n",
      "tensor([[ 0.3374, -0.1778, -0.1690],\n",
      "        [ 0.9178,  1.5810,  1.3010],\n",
      "        [ 1.2753, -0.2010, -0.1606],\n",
      "        [-0.4015,  0.9666, -1.1481],\n",
      "        [-1.1589,  0.3255, -0.6315],\n",
      "        [-2.8400, -0.7849, -1.4096]], requires_grad=True)\n"
     ]
    }
   ],
   "source": [
    "print(embedding_layer.weight)"
   ]
  },
  {
   "cell_type": "code",
   "execution_count": 275,
   "id": "83e0d3ac-699f-4b51-9441-13c0746ef7f8",
   "metadata": {},
   "outputs": [
    {
     "name": "stdout",
     "output_type": "stream",
     "text": [
      "tensor([[-0.4015,  0.9666, -1.1481]], grad_fn=<EmbeddingBackward0>)\n"
     ]
    }
   ],
   "source": [
    "print(embedding_layer(torch.tensor([3])))"
   ]
  },
  {
   "cell_type": "code",
   "execution_count": 276,
   "id": "d995eb87-f435-4bef-a91b-0727c5f9817a",
   "metadata": {},
   "outputs": [
    {
     "name": "stdout",
     "output_type": "stream",
     "text": [
      "tensor([[ 1.2753, -0.2010, -0.1606],\n",
      "        [-0.4015,  0.9666, -1.1481],\n",
      "        [-2.8400, -0.7849, -1.4096],\n",
      "        [ 0.9178,  1.5810,  1.3010]], grad_fn=<EmbeddingBackward0>)\n"
     ]
    }
   ],
   "source": [
    "print(embedding_layer(input_ids))"
   ]
  },
  {
   "cell_type": "markdown",
   "id": "ab172736-d01a-4772-a02f-e8b3ed296ed9",
   "metadata": {},
   "source": [
    "# Positional Embeddings"
   ]
  },
  {
   "cell_type": "markdown",
   "id": "dc9c3df1-5842-4d65-a4c7-966ee5ddcc63",
   "metadata": {},
   "source": [
    "#### We now consider more realistic and useful embedding sizes and encode into 256-dimensional vector representation"
   ]
  },
  {
   "cell_type": "code",
   "execution_count": 279,
   "id": "c6fbe70e-fc4a-4c8c-abd9-3abc9defa393",
   "metadata": {},
   "outputs": [],
   "source": [
    "vocab_size = 50257\n",
    "output_dim = 256\n",
    "\n",
    "token_embedding_layer = torch.nn.Embedding(vocab_size, output_dim)"
   ]
  },
  {
   "cell_type": "code",
   "execution_count": 280,
   "id": "e1f1145d-4f82-49f8-883f-7e84246fb69c",
   "metadata": {},
   "outputs": [],
   "source": [
    "# Initiatiate the data-loader\n",
    "\n",
    "max_length = 4\n",
    "dataloadder = create_dataloader_v1(\n",
    "    raw_text, batch_size=8, max_length=max_length,\n",
    "    stride=max_length, shuffle=False\n",
    ")\n",
    "data_iter = iter(dataloader)\n",
    "input, targets = next(data_iter)"
   ]
  },
  {
   "cell_type": "code",
   "execution_count": 281,
   "id": "53fbfd73-2c5e-4375-b31d-70d0bcfaff4b",
   "metadata": {},
   "outputs": [
    {
     "name": "stdout",
     "output_type": "stream",
     "text": [
      "tensor([[   40,   367,  2885,  1464],\n",
      "        [ 1807,  3619,   402,   271],\n",
      "        [10899,  2138,   257,  7026],\n",
      "        [15632,   438,  2016,   257],\n",
      "        [  922,  5891,  1576,   438],\n",
      "        [  568,   340,   373,   645],\n",
      "        [ 1049,  5975,   284,   502],\n",
      "        [  284,  3285,   326,    11]])\n"
     ]
    }
   ],
   "source": [
    "print(input)"
   ]
  },
  {
   "cell_type": "code",
   "execution_count": 284,
   "id": "77cc13c3-5a51-48ff-ac87-01e7a9ea5b0f",
   "metadata": {},
   "outputs": [
    {
     "name": "stdout",
     "output_type": "stream",
     "text": [
      "torch.Size([8, 4, 256])\n"
     ]
    }
   ],
   "source": [
    "token_embeddings = token_embedding_layer(inputs)\n",
    "print(token_embeddings.shape)"
   ]
  },
  {
   "cell_type": "code",
   "execution_count": 288,
   "id": "77c8a0f2-de64-4372-9b54-ebfd98221902",
   "metadata": {},
   "outputs": [],
   "source": [
    "context_length = max_length\n",
    "pos_embedding_layer = torch.nn.Embedding(context_length, output_dim)"
   ]
  },
  {
   "cell_type": "code",
   "execution_count": 298,
   "id": "032a88e6-ec79-4a0a-a1b8-4ab2f248d63c",
   "metadata": {},
   "outputs": [
    {
     "name": "stdout",
     "output_type": "stream",
     "text": [
      "tensor([[ 1.7375, -0.5620, -0.6303,  ..., -0.2277,  1.5748,  1.0345],\n",
      "        [ 1.6423, -0.7201,  0.2062,  ...,  0.4118,  0.1498, -0.4628],\n",
      "        [-0.4651, -0.7757,  0.5806,  ...,  1.4335, -0.4963,  0.8579],\n",
      "        [-0.6754, -0.4628,  1.4323,  ...,  0.8139, -0.7088,  0.4827]],\n",
      "       grad_fn=<EmbeddingBackward0>)\n",
      "torch.Size([4, 256])\n"
     ]
    }
   ],
   "source": [
    "pos_embeddings = pos_embedding_layer(torch.arange(max_length))\n",
    "print(pos_embeddings)\n",
    "print(pos_embeddings.shape)"
   ]
  },
  {
   "cell_type": "code",
   "execution_count": null,
   "id": "bf0f5369-6dac-424f-a377-9a7b40f42b8a",
   "metadata": {},
   "outputs": [],
   "source": []
  }
 ],
 "metadata": {
  "kernelspec": {
   "display_name": "Python [conda env:venv]",
   "language": "python",
   "name": "conda-env-venv-py"
  },
  "language_info": {
   "codemirror_mode": {
    "name": "ipython",
    "version": 3
   },
   "file_extension": ".py",
   "mimetype": "text/x-python",
   "name": "python",
   "nbconvert_exporter": "python",
   "pygments_lexer": "ipython3",
   "version": "3.8.0"
  }
 },
 "nbformat": 4,
 "nbformat_minor": 5
}
