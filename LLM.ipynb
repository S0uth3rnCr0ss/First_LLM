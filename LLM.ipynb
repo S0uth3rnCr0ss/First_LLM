{
 "cells": [
  {
   "cell_type": "markdown",
   "id": "b8ad44f1-3872-430b-bcaa-4f9a5e52f928",
   "metadata": {},
   "source": [
    "# Creating Tokens"
   ]
  },
  {
   "cell_type": "code",
   "execution_count": 1,
   "id": "ae8fe43a-5541-45a0-8575-bb9748127291",
   "metadata": {},
   "outputs": [
    {
     "name": "stdout",
     "output_type": "stream",
     "text": [
      "Total number of characters: 20480\n",
      "I HAD always thought Jack Gisburn rather a cheap genius--though a good fellow enough--so it was no \n"
     ]
    }
   ],
   "source": [
    "with open(\"the-verdict(1).txt\",\"r\",encoding=\"utf-8\") as f:\n",
    "    raw_text = f.read()\n",
    "\n",
    "print(\"Total number of characters:\", len(raw_text))\n",
    "print(raw_text[:99])"
   ]
  },
  {
   "cell_type": "markdown",
   "id": "9182066d-d9f3-4fa6-b87e-7154d4054aa1",
   "metadata": {},
   "source": [
    "#### Goal is to tokenize all the characters in the txt file that can be later turned into embeddings for LLMs"
   ]
  },
  {
   "cell_type": "code",
   "execution_count": 2,
   "id": "e3dc1305-19fb-4d6c-933f-0ba36aceb8ef",
   "metadata": {},
   "outputs": [
    {
     "name": "stdout",
     "output_type": "stream",
     "text": [
      "['Hello,', ' ', 'world.', ' ', 'This,', ' ', 'is', ' ', 'a', ' ', 'test.']\n"
     ]
    }
   ],
   "source": [
    "import re\n",
    "\n",
    "text = \"Hello, world. This, is a test.\"\n",
    "result = re.split(r'(\\s)',text)\n",
    "\n",
    "print(result) # result of individual words , whitespaces an punctuation characters"
   ]
  },
  {
   "cell_type": "code",
   "execution_count": 3,
   "id": "287c47de-210b-4d3e-a09e-b17fc7b416da",
   "metadata": {},
   "outputs": [
    {
     "name": "stdout",
     "output_type": "stream",
     "text": [
      "['Hello', ',', '', ' ', 'world', '.', '', ' ', 'This', ',', '', ' ', 'is', ' ', 'a', ' ', 'test', '.', '']\n"
     ]
    }
   ],
   "source": [
    "result = re.split(r'([,.]|\\s)',text)\n",
    "print(result)"
   ]
  },
  {
   "cell_type": "code",
   "execution_count": 4,
   "id": "d781b618-d967-4c7f-8804-87a19114baf7",
   "metadata": {},
   "outputs": [
    {
     "name": "stdout",
     "output_type": "stream",
     "text": [
      "['Hello', ',', 'world', '.', 'This', ',', 'is', 'a', 'test', '.']\n"
     ]
    }
   ],
   "source": [
    "# This will prevent the spaces to be considered as tokens\n",
    "result = [item for item in result if item.strip()]\n",
    "print(result)"
   ]
  },
  {
   "cell_type": "code",
   "execution_count": 5,
   "id": "590ce4e3-324e-4e72-9282-2ab898c8b46a",
   "metadata": {},
   "outputs": [
    {
     "name": "stdout",
     "output_type": "stream",
     "text": [
      "['Hello', ',', 'world', '.', 'Is', 'this', '--', 'a', 'test', '?']\n"
     ]
    }
   ],
   "source": [
    "text = \"Hello, world. Is this-- a test?\"\n",
    "\n",
    "result = re.split(r'([,.:;?_!\"()|\\-\\s]+)', text)\n",
    "result = [item.strip() for item in result if item.strip()]\n",
    "print(result)\n"
   ]
  },
  {
   "cell_type": "code",
   "execution_count": 6,
   "id": "737a0a9d-1c0c-4464-bd62-28c70ebc4f10",
   "metadata": {},
   "outputs": [
    {
     "name": "stdout",
     "output_type": "stream",
     "text": [
      "['I', 'HAD', 'always', 'thought', 'Jack', 'Gisburn', 'rather', 'a', 'cheap', 'genius', '-', '-', 'though', 'a', 'good', 'fellow', 'enough', '-', '-', 'so', 'it', 'was', 'no', 'great', 'surprise', 'to', 'me', 'to', 'hear', 'that']\n"
     ]
    }
   ],
   "source": [
    "preprocessed = re.split(r'([,.:;?_!\"()|\\-\\s])',raw_text)\n",
    "preprocessed = [item.strip() for item in preprocessed if item.strip()]\n",
    "\n",
    "print(preprocessed[:30])"
   ]
  },
  {
   "cell_type": "code",
   "execution_count": 7,
   "id": "b01ecb03-c158-4b00-b172-abd3d2c817e9",
   "metadata": {},
   "outputs": [
    {
     "name": "stdout",
     "output_type": "stream",
     "text": [
      "4692\n"
     ]
    }
   ],
   "source": [
    "print(len(preprocessed))"
   ]
  },
  {
   "cell_type": "markdown",
   "id": "8394af55-88db-42d9-b260-f1daa17ef874",
   "metadata": {},
   "source": [
    " # Creating Token IDs"
   ]
  },
  {
   "cell_type": "code",
   "execution_count": 8,
   "id": "5bf063b3-59c6-408d-92c4-a25baaf1cace",
   "metadata": {},
   "outputs": [
    {
     "name": "stdout",
     "output_type": "stream",
     "text": [
      "1163\n"
     ]
    }
   ],
   "source": [
    "all_words = sorted(set(preprocessed))\n",
    "vocab_size = len(all_words)\n",
    "\n",
    "print(vocab_size)"
   ]
  },
  {
   "cell_type": "code",
   "execution_count": 9,
   "id": "bdaa5afb-a8a4-4dab-8847-c3fd665bcfa9",
   "metadata": {},
   "outputs": [],
   "source": [
    " vocab = {token:integer for integer, token in enumerate(all_words)}"
   ]
  },
  {
   "cell_type": "code",
   "execution_count": 10,
   "id": "43c113bc-7311-4017-80cb-bd89e1a93e7c",
   "metadata": {},
   "outputs": [
    {
     "name": "stdout",
     "output_type": "stream",
     "text": [
      "('!', 0)\n",
      "('\"', 1)\n",
      "(\"'\", 2)\n",
      "(\"'Are\", 3)\n",
      "(\"'It's\", 4)\n",
      "(\"'coming'\", 5)\n",
      "(\"'done'\", 6)\n",
      "(\"'subject\", 7)\n",
      "(\"'technique'\", 8)\n",
      "(\"'way\", 9)\n",
      "('(', 10)\n",
      "(')', 11)\n",
      "(',', 12)\n",
      "('-', 13)\n",
      "('.', 14)\n",
      "(':', 15)\n",
      "(';', 16)\n",
      "('?', 17)\n",
      "('A', 18)\n",
      "('Ah', 19)\n",
      "('Among', 20)\n",
      "('And', 21)\n",
      "('Arrt', 22)\n",
      "('As', 23)\n",
      "('At', 24)\n",
      "('Be', 25)\n",
      "('Begin', 26)\n",
      "('Burlington', 27)\n",
      "('But', 28)\n",
      "('By', 29)\n",
      "('Carlo', 30)\n",
      "('Chicago', 31)\n",
      "('Claude', 32)\n",
      "('Come', 33)\n",
      "('Croft', 34)\n",
      "('Destroyed', 35)\n",
      "('Devonshire', 36)\n",
      "(\"Don't\", 37)\n",
      "('Dubarry', 38)\n",
      "('Emperors', 39)\n",
      "('Florence', 40)\n",
      "('For', 41)\n",
      "('Gallery', 42)\n",
      "('Gideon', 43)\n",
      "('Gisburn', 44)\n",
      "(\"Gisburn's\", 45)\n",
      "('Gisburns', 46)\n",
      "('Grafton', 47)\n",
      "('Greek', 48)\n",
      "('Grindle', 49)\n",
      "(\"Grindle's\", 50)\n"
     ]
    }
   ],
   "source": [
    "for i, item in enumerate(vocab.items()):\n",
    "    print(item)\n",
    "    if i >= 50:\n",
    "        break "
   ]
  },
  {
   "cell_type": "code",
   "execution_count": 11,
   "id": "bdb7216a-e272-42e7-a6b2-ae0b7f4d18ff",
   "metadata": {},
   "outputs": [],
   "source": [
    "class SimpleTokenizer:\n",
    "    def __init__(self,vocab):\n",
    "        self.str_to_int = vocab\n",
    "        self.int_to_str = {i:s for s,i in vocab.items()}\n",
    "        \n",
    "    def encode(self,text):\n",
    "        preprocessed = re.split(r'([,.:;?_!\"()\\-\\s])',text)\n",
    "        processed = [\n",
    "            item.strip() for item in preprocessed if item.strip()\n",
    "        ]\n",
    "        ids = [self.str_to_int[s] for s in preprocessed if s.strip() and s in self.str_to_int]\n",
    "        return ids\n",
    "        \n",
    "    def decode(self,ids):\n",
    "        text = \" \".join([self.int_to_str[i] for i in ids])\n",
    "        # Replace spaces before the specified punctuations\n",
    "        text = re.sub(r's+([,.?!\"()\\'])',r'\\1', text)\n",
    "        return text"
   ]
  },
  {
   "cell_type": "markdown",
   "id": "173b1a85-ee36-4902-8b34-8ea53139b4bd",
   "metadata": {},
   "source": [
    "#### Instantiate a tokenizer object from the tokenizer class"
   ]
  },
  {
   "cell_type": "code",
   "execution_count": 12,
   "id": "31fa9c14-8701-4051-afd1-d0deea297080",
   "metadata": {},
   "outputs": [
    {
     "name": "stdout",
     "output_type": "stream",
     "text": [
      "[1, 1, 69, 1016, 627, 552, 772, 12, 1157, 621, 12, 1, 81, 14, 44, 879, 1046, 781, 822, 14]\n"
     ]
    }
   ],
   "source": [
    "tokenizer = SimpleTokenizer(vocab)\n",
    "\n",
    "text = \"\"\"\"\" It's the last he painted, you know,\"\n",
    "             Mrs. Gisburn said to pardonable pride.\"\"\"\n",
    "\n",
    "ids = tokenizer.encode(text)\n",
    "print(ids)"
   ]
  },
  {
   "cell_type": "code",
   "execution_count": 13,
   "id": "541eaad4-5f71-4a69-a410-84f5e2889713",
   "metadata": {},
   "outputs": [
    {
     "data": {
      "text/plain": [
       "'\" \" It\\'s the last he painted , you know , \" Mrs . Gisburn said to pardonable pride .'"
      ]
     },
     "execution_count": 13,
     "metadata": {},
     "output_type": "execute_result"
    }
   ],
   "source": [
    "tokenizer.decode(ids)"
   ]
  },
  {
   "cell_type": "markdown",
   "id": "6bf1f709-3392-4091-a123-8446fcc6f103",
   "metadata": {},
   "source": [
    "# Special Context Tokens\n",
    "\n",
    "### These are something that are used to deal with the unknown words which\n",
    "### are not present in the training vocubulary or training data."
   ]
  },
  {
   "cell_type": "markdown",
   "id": "7e1ab7f8-d181-401c-ad92-717ace99485d",
   "metadata": {},
   "source": [
    "#### Here simpleTokenizer is modified"
   ]
  },
  {
   "cell_type": "code",
   "execution_count": 14,
   "id": "ea82aece-98dd-4a87-94a1-7ace6d76ecfd",
   "metadata": {},
   "outputs": [],
   "source": [
    "all_tokens = sorted(list(set(preprocessed)))\n",
    "all_tokens.extend([\"<|endoftext|>\",\"<|unk|>\"])\n",
    "\n",
    "vocab = {token:integer for integer, token in enumerate(all_tokens)}"
   ]
  },
  {
   "cell_type": "code",
   "execution_count": 15,
   "id": "3d5e8d61-9d17-46c9-8537-9ea311aa7392",
   "metadata": {},
   "outputs": [
    {
     "data": {
      "text/plain": [
       "1165"
      ]
     },
     "execution_count": 15,
     "metadata": {},
     "output_type": "execute_result"
    }
   ],
   "source": [
    "len(vocab.items())"
   ]
  },
  {
   "cell_type": "code",
   "execution_count": 16,
   "id": "73f68880-f09d-4dbd-a6ec-21b019fdf250",
   "metadata": {},
   "outputs": [
    {
     "name": "stdout",
     "output_type": "stream",
     "text": [
      "('yourself', 1162)\n",
      "('<|endoftext|>', 1163)\n",
      "('<|unk|>', 1164)\n"
     ]
    }
   ],
   "source": [
    "for i, item in enumerate(list(vocab.items())[-3:]):\n",
    "    print(item)"
   ]
  },
  {
   "cell_type": "code",
   "execution_count": 17,
   "id": "946936d1-0069-4709-bf6c-eda8858db2d5",
   "metadata": {},
   "outputs": [],
   "source": [
    "# Modification in SimpleTokenizer\n",
    "\n",
    "class SimpleTokenizerV2:\n",
    "    def __init__(self,vocab):\n",
    "        self.str_to_int = vocab\n",
    "        self.int_to_str = {i: s for s, i in vocab.items()}\n",
    "        \n",
    "    def encode(self,text):\n",
    "        preprocessed = re.split(r'([,.:;?_!\"()\\-\\s])',text)\n",
    "        preprocessed = [item.strip() for item in preprocessed if item.strip()]\n",
    "        preprocessed = [\n",
    "            item if item in self.str_to_int\n",
    "            else \"<|unk|>\" for item in preprocessed \n",
    "        ]\n",
    "        ids = [self.str_to_int[s] for s in preprocessed if s.strip() and s in self.str_to_int]\n",
    "        return ids\n",
    "        \n",
    "    def decode(self, ids):\n",
    "        text = \" \".join([self.int_to_str[i] for i in ids])\n",
    "        # Replace spaces before the specified punctuations\n",
    "        text = re.sub(r'\\s+([,.:;?!\"()\\'])', r'\\1', text)\n",
    "        return text"
   ]
  },
  {
   "cell_type": "code",
   "execution_count": 18,
   "id": "bd5d952e-959f-4829-8cf1-738ad7ef86b7",
   "metadata": {},
   "outputs": [
    {
     "name": "stdout",
     "output_type": "stream",
     "text": [
      "Hello, do you like tea? <|endoftext|> in the sunlit terrace of the palace.\n"
     ]
    }
   ],
   "source": [
    "tokenizer = SimpleTokenizerV2(vocab)\n",
    "\n",
    "text1 = \"Hello, do you like tea?\"\n",
    "text2 = \"in the sunlit terrace of the palace.\"\n",
    "\n",
    "text = \" <|endoftext|> \".join((text1,text2))\n",
    "\n",
    "print(text)\n"
   ]
  },
  {
   "cell_type": "code",
   "execution_count": 19,
   "id": "e21f4d11-4be9-402b-aed8-a9fd6f36a26f",
   "metadata": {},
   "outputs": [
    {
     "data": {
      "text/plain": [
       "[1164,\n",
       " 12,\n",
       " 378,\n",
       " 1157,\n",
       " 653,\n",
       " 1004,\n",
       " 17,\n",
       " 1163,\n",
       " 592,\n",
       " 1016,\n",
       " 986,\n",
       " 1011,\n",
       " 748,\n",
       " 1016,\n",
       " 1164,\n",
       " 14]"
      ]
     },
     "execution_count": 19,
     "metadata": {},
     "output_type": "execute_result"
    }
   ],
   "source": [
    "tokenizer.encode(text)"
   ]
  },
  {
   "cell_type": "code",
   "execution_count": 20,
   "id": "283c618d-2ff4-4075-a79b-4cc876b28898",
   "metadata": {},
   "outputs": [
    {
     "data": {
      "text/plain": [
       "'<|unk|>, do you like tea? <|endoftext|> in the sunlit terrace of the <|unk|>.'"
      ]
     },
     "execution_count": 20,
     "metadata": {},
     "output_type": "execute_result"
    }
   ],
   "source": [
    "tokenizer.decode(tokenizer.encode(text))"
   ]
  },
  {
   "cell_type": "markdown",
   "id": "efde5f4a-65bf-4dd7-937d-204fbbb0960a",
   "metadata": {},
   "source": [
    "# Byte Pair Encoding"
   ]
  },
  {
   "cell_type": "code",
   "execution_count": 21,
   "id": "50539023-c281-45c2-9df6-12ec8ff57b2c",
   "metadata": {},
   "outputs": [
    {
     "name": "stdout",
     "output_type": "stream",
     "text": [
      "Requirement already satisfied: tiktoken in c:\\users\\suresh\\appdata\\local\\programs\\python\\python312\\lib\\site-packages (0.9.0)\n",
      "Requirement already satisfied: regex>=2022.1.18 in c:\\users\\suresh\\appdata\\local\\programs\\python\\python312\\lib\\site-packages (from tiktoken) (2024.11.6)\n",
      "Requirement already satisfied: requests>=2.26.0 in c:\\users\\suresh\\appdata\\local\\programs\\python\\python312\\lib\\site-packages (from tiktoken) (2.32.3)\n",
      "Requirement already satisfied: charset-normalizer<4,>=2 in c:\\users\\suresh\\appdata\\local\\programs\\python\\python312\\lib\\site-packages (from requests>=2.26.0->tiktoken) (3.3.2)\n",
      "Requirement already satisfied: idna<4,>=2.5 in c:\\users\\suresh\\appdata\\local\\programs\\python\\python312\\lib\\site-packages (from requests>=2.26.0->tiktoken) (3.7)\n",
      "Requirement already satisfied: urllib3<3,>=1.21.1 in c:\\users\\suresh\\appdata\\local\\programs\\python\\python312\\lib\\site-packages (from requests>=2.26.0->tiktoken) (2.2.2)\n",
      "Requirement already satisfied: certifi>=2017.4.17 in c:\\users\\suresh\\appdata\\local\\programs\\python\\python312\\lib\\site-packages (from requests>=2.26.0->tiktoken) (2024.7.4)\n"
     ]
    },
    {
     "name": "stderr",
     "output_type": "stream",
     "text": [
      "\n",
      "[notice] A new release of pip is available: 24.0 -> 25.1.1\n",
      "[notice] To update, run: python.exe -m pip install --upgrade pip\n"
     ]
    }
   ],
   "source": [
    "!pip install tiktoken"
   ]
  },
  {
   "cell_type": "code",
   "execution_count": 22,
   "id": "fd5390ad-624f-4055-9262-0f01058768b8",
   "metadata": {},
   "outputs": [],
   "source": [
    "import importlib\n",
    "import tiktoken"
   ]
  },
  {
   "cell_type": "code",
   "execution_count": 23,
   "id": "8f95c92b-f628-4f20-8597-addc361ed420",
   "metadata": {},
   "outputs": [],
   "source": [
    "tokenizer = tiktoken.get_encoding(\"gpt2\")"
   ]
  },
  {
   "cell_type": "code",
   "execution_count": 24,
   "id": "97371d85-146d-4a55-ad54-e490d3fa331f",
   "metadata": {},
   "outputs": [
    {
     "name": "stdout",
     "output_type": "stream",
     "text": [
      "[15496, 466, 345, 588, 8887, 30, 220, 50256, 554, 262, 4252, 18250, 8812, 2114, 1659, 617, 34680, 27271, 13]\n"
     ]
    }
   ],
   "source": [
    "text = (\n",
    "    \"Hello do you like tea? <|endoftext|> In the sunlit terraces\"\n",
    "    \"of someunknownPlace.\"\n",
    ")\n",
    "\n",
    "integers = tokenizer.encode(text, allowed_special={\"<|endoftext|>\"})\n",
    "\n",
    "print(integers)"
   ]
  },
  {
   "cell_type": "code",
   "execution_count": 25,
   "id": "b037f413-5159-4b28-92f0-fc0c96f69375",
   "metadata": {},
   "outputs": [
    {
     "name": "stdout",
     "output_type": "stream",
     "text": [
      "Hello do you like tea? <|endoftext|> In the sunlit terracesof someunknownPlace.\n"
     ]
    }
   ],
   "source": [
    "strings = tokenizer.decode(integers)\n",
    "print(strings)"
   ]
  },
  {
   "cell_type": "markdown",
   "id": "053c51e5-b97d-4da1-bb6e-b1d4c4e8a3f3",
   "metadata": {},
   "source": [
    "# Creating Input-Target Pairs"
   ]
  },
  {
   "cell_type": "code",
   "execution_count": 26,
   "id": "76f73035-7875-4834-8350-8d548af1f038",
   "metadata": {},
   "outputs": [
    {
     "name": "stdout",
     "output_type": "stream",
     "text": [
      "5146\n"
     ]
    }
   ],
   "source": [
    "with open(\"the-verdict(1).txt\",\"r\",encoding=\"utf-8\") as f:\n",
    "    raw_text = f.read()\n",
    "\n",
    "enc_text = tokenizer.encode(raw_text)\n",
    "print(len(enc_text))"
   ]
  },
  {
   "cell_type": "code",
   "execution_count": 27,
   "id": "55f2acce-0b25-4ed0-be07-458e5a35289e",
   "metadata": {},
   "outputs": [],
   "source": [
    "# Remove first 50 tokens from the dataset for demonstration purpose\n",
    "enc_sample = enc_text[50:]"
   ]
  },
  {
   "cell_type": "code",
   "execution_count": 28,
   "id": "42b3542d-1d86-4e15-b28d-3007ebe98d23",
   "metadata": {},
   "outputs": [
    {
     "name": "stdout",
     "output_type": "stream",
     "text": [
      "x: [290, 4920, 2241, 287]\n",
      "y:    [4920, 2241, 287, 257]\n"
     ]
    }
   ],
   "source": [
    "context_size = 4  #length of input\n",
    "\n",
    "x = enc_sample[:context_size]\n",
    "y = enc_sample[1:context_size+1]\n",
    "\n",
    "print(f\"x: {x}\")\n",
    "print(f\"y:    {y}\")"
   ]
  },
  {
   "cell_type": "code",
   "execution_count": 29,
   "id": "a14f1310-a186-4ebe-b424-1a90fe7c3472",
   "metadata": {},
   "outputs": [
    {
     "name": "stdout",
     "output_type": "stream",
     "text": [
      "[290] -----> 4920\n",
      "[290, 4920] -----> 2241\n",
      "[290, 4920, 2241] -----> 287\n",
      "[290, 4920, 2241, 287] -----> 257\n"
     ]
    }
   ],
   "source": [
    "for i in range(1, context_size+1):\n",
    "    context = enc_sample[:i] # Input the llm will recieve\n",
    "    desired = enc_sample[i] # Target\n",
    "    \n",
    "    print(context,\"----->\",desired)"
   ]
  },
  {
   "cell_type": "code",
   "execution_count": 30,
   "id": "f7748bc1-7c00-4198-ba86-37c70b811302",
   "metadata": {},
   "outputs": [
    {
     "name": "stdout",
     "output_type": "stream",
     "text": [
      " and ---->  established\n",
      " and established ---->  himself\n",
      " and established himself ---->  in\n",
      " and established himself in ---->  a\n"
     ]
    }
   ],
   "source": [
    "for i in range(1, context_size+1):\n",
    "    context = enc_sample[:i]\n",
    "    desired = enc_sample[i]\n",
    "    print(tokenizer.decode(context), \"---->\", tokenizer.decode([desired]))"
   ]
  },
  {
   "cell_type": "markdown",
   "id": "70df3091-548c-4076-bed7-2aaf4c49c4c4",
   "metadata": {},
   "source": [
    "# Implementing Dataset"
   ]
  },
  {
   "cell_type": "markdown",
   "id": "f78000c1-c817-475b-adc1-2933e6de852d",
   "metadata": {},
   "source": [
    "#### 1.Tokenize the entire text\n",
    "#### 2.Use the Sliding Window to chunk into overlapping sequences of max_length\n",
    "#### 3.Return the total number of rows in the dataset\n",
    "#### 4.Return a single row from the dataset"
   ]
  },
  {
   "cell_type": "code",
   "execution_count": 31,
   "id": "f06cdb2c-5444-4976-801e-4722d8e069af",
   "metadata": {},
   "outputs": [
    {
     "name": "stdout",
     "output_type": "stream",
     "text": [
      "Requirement already satisfied: torch in c:\\users\\suresh\\appdata\\local\\programs\\python\\python312\\lib\\site-packages (2.7.0)\n",
      "Requirement already satisfied: filelock in c:\\users\\suresh\\appdata\\local\\programs\\python\\python312\\lib\\site-packages (from torch) (3.18.0)\n",
      "Requirement already satisfied: typing-extensions>=4.10.0 in c:\\users\\suresh\\appdata\\local\\programs\\python\\python312\\lib\\site-packages (from torch) (4.13.2)\n",
      "Requirement already satisfied: sympy>=1.13.3 in c:\\users\\suresh\\appdata\\local\\programs\\python\\python312\\lib\\site-packages (from torch) (1.13.3)\n",
      "Requirement already satisfied: networkx in c:\\users\\suresh\\appdata\\local\\programs\\python\\python312\\lib\\site-packages (from torch) (3.4.2)\n",
      "Requirement already satisfied: jinja2 in c:\\users\\suresh\\appdata\\local\\programs\\python\\python312\\lib\\site-packages (from torch) (3.1.4)\n",
      "Requirement already satisfied: fsspec in c:\\users\\suresh\\appdata\\local\\programs\\python\\python312\\lib\\site-packages (from torch) (2025.3.2)\n",
      "Requirement already satisfied: setuptools in c:\\users\\suresh\\appdata\\local\\programs\\python\\python312\\lib\\site-packages (from torch) (72.1.0)\n",
      "Requirement already satisfied: mpmath<1.4,>=1.1.0 in c:\\users\\suresh\\appdata\\local\\programs\\python\\python312\\lib\\site-packages (from sympy>=1.13.3->torch) (1.3.0)\n",
      "Requirement already satisfied: MarkupSafe>=2.0 in c:\\users\\suresh\\appdata\\local\\programs\\python\\python312\\lib\\site-packages (from jinja2->torch) (2.1.5)\n"
     ]
    },
    {
     "name": "stderr",
     "output_type": "stream",
     "text": [
      "\n",
      "[notice] A new release of pip is available: 24.0 -> 25.1.1\n",
      "[notice] To update, run: python.exe -m pip install --upgrade pip\n"
     ]
    }
   ],
   "source": [
    "!pip install torch"
   ]
  },
  {
   "cell_type": "code",
   "execution_count": 32,
   "id": "e7985298-3d35-44b1-a00b-37469f7c75f4",
   "metadata": {},
   "outputs": [],
   "source": [
    "from torch.utils.data import Dataset, DataLoader\n",
    "\n",
    "class GPTDatasetV1(Dataset):\n",
    "    def __init__(self, txt, tokenizer, max_length, stride):\n",
    "        self.input_ids = []\n",
    "        self.target_ids = []\n",
    "\n",
    "        token_ids = tokenizer.encode(txt, allowed_special={\"<|endoftext|>\"})\n",
    "        \n",
    "        for i in range(0, len(token_ids) - max_length, stride):\n",
    "            input_chunk = token_ids[i:i+max_length]\n",
    "            target_chunk = token_ids[i+1: i + max_length+1]\n",
    "            self.input_ids.append(torch.tensor(input_chunk))\n",
    "            self.target_ids.append(torch.tensor(target_chunk))\n",
    "            \n",
    "    def __len__(self):\n",
    "        return len(self.input_ids)\n",
    "        \n",
    "    def __getitem__(self,idx):\n",
    "        return self.input_ids[idx], self.target_ids[idx]\n",
    "            \n",
    "        "
   ]
  },
  {
   "cell_type": "markdown",
   "id": "7534cce7-f32c-4b1d-b1fb-121175cf7947",
   "metadata": {},
   "source": [
    "cessing"
   ]
  },
  {
   "cell_type": "code",
   "execution_count": 33,
   "id": "1edb28f0-5752-4e70-8717-3e4621c10632",
   "metadata": {},
   "outputs": [],
   "source": [
    "def create_dataloader_v1(txt, batch_size=4, max_length=256,\n",
    "                          stride=128, shuffle=True, drop_last=True,\n",
    "                          num_workers=0):\n",
    "    # Initialize the tokenizer\n",
    "    tokenizer = tiktoken.get_encoding(\"gpt2\")\n",
    "\n",
    "    # create dataset\n",
    "    dataset = GPTDatasetV1(txt, tokenizer, max_length, stride)\n",
    "\n",
    "    # Create dataloader\n",
    "    dataloader = DataLoader(\n",
    "        dataset,\n",
    "        batch_size=batch_size,\n",
    "        shuffle=shuffle,\n",
    "        drop_last=drop_last,\n",
    "        num_workers = num_workers\n",
    "\n",
    "    )\n",
    "\n",
    "    \n",
    "    return dataloader"
   ]
  },
  {
   "cell_type": "code",
   "execution_count": 34,
   "id": "be940959-2bfd-49ad-a8bc-be03ac723bd6",
   "metadata": {},
   "outputs": [],
   "source": [
    "with open(\"the-verdict(1).txt\", \"r\", encoding=\"utf-8\") as f:\n",
    "    raw_text = f.read()"
   ]
  },
  {
   "cell_type": "markdown",
   "id": "e9992111-8758-4bfd-913b-0b0f50421ec2",
   "metadata": {},
   "source": [
    "#### Convert Dataloader into a Python iterator to fetch the next entry via Python's build-in next() function"
   ]
  },
  {
   "cell_type": "code",
   "execution_count": 35,
   "id": "9fa31cc9-beb8-4d1b-8e6e-87563d50e5e4",
   "metadata": {},
   "outputs": [
    {
     "name": "stdout",
     "output_type": "stream",
     "text": [
      "PyTorch version: 2.7.0+cpu\n",
      "[tensor([[  40,  367, 2885, 1464]]), tensor([[ 367, 2885, 1464, 1807]])]\n"
     ]
    }
   ],
   "source": [
    "import torch\n",
    "print(\"PyTorch version:\", torch.__version__)\n",
    "dataloader = create_dataloader_v1(\n",
    "    raw_text, batch_size=1, max_length=4, stride=1, shuffle=False\n",
    ")\n",
    "\n",
    "data_iter = iter(dataloader)\n",
    "first_batch = next(data_iter)\n",
    "print(first_batch)"
   ]
  },
  {
   "cell_type": "code",
   "execution_count": 36,
   "id": "16fc1bda-ad03-436f-9652-15c620f889a6",
   "metadata": {},
   "outputs": [
    {
     "name": "stdout",
     "output_type": "stream",
     "text": [
      "[tensor([[ 367, 2885, 1464, 1807]]), tensor([[2885, 1464, 1807, 3619]])]\n"
     ]
    }
   ],
   "source": [
    "second_batch = next(data_iter)\n",
    "print(second_batch)"
   ]
  },
  {
   "cell_type": "markdown",
   "id": "84c51821-842b-4d2b-aabc-ace22387aabc",
   "metadata": {},
   "source": [
    "#### The stride setting dictates the number of positions of inputs shift across batches, emulating a sliding window approach"
   ]
  },
  {
   "cell_type": "code",
   "execution_count": 37,
   "id": "2be237f3-2050-4c56-b0d2-e22bc96cd06b",
   "metadata": {},
   "outputs": [
    {
     "name": "stdout",
     "output_type": "stream",
     "text": [
      "Inputs:\n",
      " tensor([[   40,   367,  2885,  1464],\n",
      "        [ 1807,  3619,   402,   271],\n",
      "        [10899,  2138,   257,  7026],\n",
      "        [15632,   438,  2016,   257],\n",
      "        [  922,  5891,  1576,   438],\n",
      "        [  568,   340,   373,   645],\n",
      "        [ 1049,  5975,   284,   502],\n",
      "        [  284,  3285,   326,    11]])\n",
      "\n",
      "Targets:\n",
      " tensor([[  367,  2885,  1464,  1807],\n",
      "        [ 3619,   402,   271, 10899],\n",
      "        [ 2138,   257,  7026, 15632],\n",
      "        [  438,  2016,   257,   922],\n",
      "        [ 5891,  1576,   438,   568],\n",
      "        [  340,   373,   645,  1049],\n",
      "        [ 5975,   284,   502,   284],\n",
      "        [ 3285,   326,    11,   287]])\n"
     ]
    }
   ],
   "source": [
    "dataloader = create_dataloader_v1(raw_text, batch_size=8, max_length=4, stride=4, shuffle=False)\n",
    "\n",
    "data_iter = iter(dataloader)\n",
    "inputs, targets = next(data_iter)\n",
    "print(\"Inputs:\\n\",inputs)\n",
    "print(\"\\nTargets:\\n\",targets)"
   ]
  },
  {
   "cell_type": "markdown",
   "id": "b352aad0-eb81-4a31-af92-ece63e445419",
   "metadata": {},
   "source": [
    "# Token Embeddings"
   ]
  },
  {
   "cell_type": "code",
   "execution_count": 38,
   "id": "2c704c7d-ebc5-4f8f-9dce-78b45b42a0ff",
   "metadata": {},
   "outputs": [],
   "source": [
    "input_ids = torch.tensor([2,3,5,1])"
   ]
  },
  {
   "cell_type": "code",
   "execution_count": 39,
   "id": "0c45f91c-33af-4ca5-b029-c5e833659450",
   "metadata": {},
   "outputs": [],
   "source": [
    "vocab_size = 6 # Only 6 tokens are used instead of 50257 words\n",
    "output_dim = 3\n",
    "\n",
    "torch.manual_seed(123)\n",
    "embedding_layer = torch.nn.Embedding(vocab_size, output_dim)"
   ]
  },
  {
   "cell_type": "code",
   "execution_count": 40,
   "id": "2f8c6fce-e950-4ba8-a310-a8ca1e0a0a1b",
   "metadata": {},
   "outputs": [
    {
     "name": "stdout",
     "output_type": "stream",
     "text": [
      "Parameter containing:\n",
      "tensor([[ 0.3374, -0.1778, -0.1690],\n",
      "        [ 0.9178,  1.5810,  1.3010],\n",
      "        [ 1.2753, -0.2010, -0.1606],\n",
      "        [-0.4015,  0.9666, -1.1481],\n",
      "        [-1.1589,  0.3255, -0.6315],\n",
      "        [-2.8400, -0.7849, -1.4096]], requires_grad=True)\n"
     ]
    }
   ],
   "source": [
    "print(embedding_layer.weight)"
   ]
  },
  {
   "cell_type": "code",
   "execution_count": 41,
   "id": "83e0d3ac-699f-4b51-9441-13c0746ef7f8",
   "metadata": {},
   "outputs": [
    {
     "name": "stdout",
     "output_type": "stream",
     "text": [
      "tensor([[-0.4015,  0.9666, -1.1481]], grad_fn=<EmbeddingBackward0>)\n"
     ]
    }
   ],
   "source": [
    "print(embedding_layer(torch.tensor([3])))"
   ]
  },
  {
   "cell_type": "code",
   "execution_count": 42,
   "id": "d995eb87-f435-4bef-a91b-0727c5f9817a",
   "metadata": {},
   "outputs": [
    {
     "name": "stdout",
     "output_type": "stream",
     "text": [
      "tensor([[ 1.2753, -0.2010, -0.1606],\n",
      "        [-0.4015,  0.9666, -1.1481],\n",
      "        [-2.8400, -0.7849, -1.4096],\n",
      "        [ 0.9178,  1.5810,  1.3010]], grad_fn=<EmbeddingBackward0>)\n"
     ]
    }
   ],
   "source": [
    "print(embedding_layer(input_ids))"
   ]
  },
  {
   "cell_type": "markdown",
   "id": "ab172736-d01a-4772-a02f-e8b3ed296ed9",
   "metadata": {},
   "source": [
    "# Positional Embeddings"
   ]
  },
  {
   "cell_type": "markdown",
   "id": "dc9c3df1-5842-4d65-a4c7-966ee5ddcc63",
   "metadata": {},
   "source": [
    "#### We now consider more realistic and useful embedding sizes and encode into 256-dimensional vector representation"
   ]
  },
  {
   "cell_type": "code",
   "execution_count": 43,
   "id": "c6fbe70e-fc4a-4c8c-abd9-3abc9defa393",
   "metadata": {},
   "outputs": [],
   "source": [
    "vocab_size = 50257\n",
    "output_dim = 256\n",
    "\n",
    "token_embedding_layer = torch.nn.Embedding(vocab_size, output_dim)"
   ]
  },
  {
   "cell_type": "code",
   "execution_count": 44,
   "id": "e1f1145d-4f82-49f8-883f-7e84246fb69c",
   "metadata": {},
   "outputs": [],
   "source": [
    "# Initiatiate the data-loader\n",
    "\n",
    "max_length = 4\n",
    "dataloadder = create_dataloader_v1(\n",
    "    raw_text, batch_size=8, max_length=max_length,\n",
    "    stride=max_length, shuffle=False\n",
    ")\n",
    "data_iter = iter(dataloader)\n",
    "input, targets = next(data_iter)"
   ]
  },
  {
   "cell_type": "code",
   "execution_count": 45,
   "id": "53fbfd73-2c5e-4375-b31d-70d0bcfaff4b",
   "metadata": {},
   "outputs": [
    {
     "name": "stdout",
     "output_type": "stream",
     "text": [
      "tensor([[   40,   367,  2885,  1464],\n",
      "        [ 1807,  3619,   402,   271],\n",
      "        [10899,  2138,   257,  7026],\n",
      "        [15632,   438,  2016,   257],\n",
      "        [  922,  5891,  1576,   438],\n",
      "        [  568,   340,   373,   645],\n",
      "        [ 1049,  5975,   284,   502],\n",
      "        [  284,  3285,   326,    11]])\n"
     ]
    }
   ],
   "source": [
    "print(input)"
   ]
  },
  {
   "cell_type": "code",
   "execution_count": 46,
   "id": "77cc13c3-5a51-48ff-ac87-01e7a9ea5b0f",
   "metadata": {},
   "outputs": [
    {
     "name": "stdout",
     "output_type": "stream",
     "text": [
      "torch.Size([8, 4, 256])\n"
     ]
    }
   ],
   "source": [
    "token_embeddings = token_embedding_layer(inputs)\n",
    "print(token_embeddings.shape)"
   ]
  },
  {
   "cell_type": "code",
   "execution_count": 47,
   "id": "77c8a0f2-de64-4372-9b54-ebfd98221902",
   "metadata": {},
   "outputs": [],
   "source": [
    "context_length = max_length\n",
    "pos_embedding_layer = torch.nn.Embedding(context_length, output_dim)"
   ]
  },
  {
   "cell_type": "code",
   "execution_count": 48,
   "id": "032a88e6-ec79-4a0a-a1b8-4ab2f248d63c",
   "metadata": {},
   "outputs": [
    {
     "name": "stdout",
     "output_type": "stream",
     "text": [
      "tensor([[ 1.7375, -0.5620, -0.6303,  ..., -0.2277,  1.5748,  1.0345],\n",
      "        [ 1.6423, -0.7201,  0.2062,  ...,  0.4118,  0.1498, -0.4628],\n",
      "        [-0.4651, -0.7757,  0.5806,  ...,  1.4335, -0.4963,  0.8579],\n",
      "        [-0.6754, -0.4628,  1.4323,  ...,  0.8139, -0.7088,  0.4827]],\n",
      "       grad_fn=<EmbeddingBackward0>)\n",
      "torch.Size([4, 256])\n"
     ]
    }
   ],
   "source": [
    "pos_embeddings = pos_embedding_layer(torch.arange(max_length))\n",
    "print(pos_embeddings)\n",
    "print(pos_embeddings.shape)"
   ]
  },
  {
   "cell_type": "code",
   "execution_count": 49,
   "id": "4d35898c-852e-4d4d-acb5-8cc6d10c770e",
   "metadata": {},
   "outputs": [
    {
     "name": "stdout",
     "output_type": "stream",
     "text": [
      "torch.Size([8, 4, 256])\n"
     ]
    }
   ],
   "source": [
    "input_embeddings = token_embeddings + pos_embeddings\n",
    "print(input_embeddings.shape)"
   ]
  },
  {
   "cell_type": "markdown",
   "id": "4f9b6b9e-b2e9-4d29-915e-808b4d604eb9",
   "metadata": {},
   "source": [
    "# Simplified Attention Mechanism"
   ]
  },
  {
   "cell_type": "markdown",
   "id": "a55ae0cd-5be8-41e9-ad9a-acff35fcf8ae",
   "metadata": {},
   "source": [
    "#### Consider the following input sentence , which has already been embedded into 3D dimension vectors."
   ]
  },
  {
   "cell_type": "code",
   "execution_count": 50,
   "id": "f0c76e5f-8283-4088-ada5-4f3809cebde3",
   "metadata": {},
   "outputs": [],
   "source": [
    "import torch\n",
    "\n",
    "inputs = torch.tensor(\n",
    "  [[0.43, 0.15, 0.89], # Your     (x^1)\n",
    "   [0.55, 0.87, 0.66], # journey  (x^2)\n",
    "   [0.57, 0.85, 0.64], # starts   (x^3)\n",
    "   [0.22, 0.58, 0.33], # with     (x^4)\n",
    "   [0.77, 0.25, 0.10], # one      (x^5)\n",
    "   [0.05, 0.80, 0.55]] # step     (x^6)\n",
    ")"
   ]
  },
  {
   "cell_type": "code",
   "execution_count": 51,
   "id": "007ba5d6-4207-42ed-9fc4-367a6747815a",
   "metadata": {},
   "outputs": [
    {
     "data": {
      "image/png": "[encoded data removed]",
      "text/plain": [
       "<Figure size 640x480 with 1 Axes>"
      ]
     },
     "metadata": {},
     "output_type": "display_data"
    }
   ],
   "source": [
    "import matplotlib.pyplot as plt\n",
    "from mpl_toolkits.mplot3d import Axes3D\n",
    "\n",
    "# Corresponding words\n",
    "words = ['Your', 'journey', 'starts', 'with', 'one', 'step']\n",
    "\n",
    "# Extract x, y, z coordinates\n",
    "x_coords = inputs[:, 0].numpy()\n",
    "y_coords = inputs[:, 1].numpy()\n",
    "z_coords = inputs[:, 2].numpy()\n",
    "\n",
    "# Create 3D plot\n",
    "fig = plt.figure()\n",
    "ax = fig.add_subplot(111, projection='3d')\n",
    "\n",
    "# Plot each point and annotate with corresponding words\n",
    "for x, y, z, word in zip(x_coords, y_coords, z_coords, words):\n",
    "    ax.scatter(x, y, z)\n",
    "    ax.text(x, y, z, word, fontsize = 10)\n",
    "\n",
    "# Set labels\n",
    "ax.set_xlabel('X')\n",
    "ax.set_ylabel('Y')\n",
    "ax.set_zlabel('Z')\n",
    "\n",
    "plt.title('3D plot of word Embeddings')\n",
    "plt.show()"
   ]
  },
  {
   "cell_type": "code",
   "execution_count": 52,
   "id": "d45580df-2632-46a2-bf28-33b90006871b",
   "metadata": {},
   "outputs": [
    {
     "data": {
      "image/png": "[encoded data removed]",
      "text/plain": [
       "<Figure size 640x480 with 1 Axes>"
      ]
     },
     "metadata": {},
     "output_type": "display_data"
    }
   ],
   "source": [
    "# Create 3D plot with vectors from origin to each point, using different colors\n",
    "fig = plt.figure()\n",
    "ax = fig.add_subplot(111, projection='3d')\n",
    "\n",
    "# Define a list of colors for the vectors\n",
    "colors = ['r', 'g', 'b', 'c', 'm', 'y']\n",
    "\n",
    "# Plot each vector with a different color and annotate with the corresponding word\n",
    "for (x, y, z, word, color) in zip(x_coords, y_coords, z_coords, words, colors):\n",
    "    # Draw vector from origin to the point (x, y, z) with specified color and smaller arrow length ratio\n",
    "    ax.quiver(0, 0, 0, x, y, z, color=color, arrow_length_ratio=0.05)\n",
    "    ax.text(x, y, z, word, fontsize=10, color=color)\n",
    "\n",
    "# Set labels for axes\n",
    "ax.set_xlabel('X')\n",
    "ax.set_ylabel('Y')\n",
    "ax.set_zlabel('Z')\n",
    "\n",
    "# Set plot limits to keep arrows within the plot boundaries\n",
    "ax.set_xlim([0, 1])\n",
    "ax.set_ylim([0, 1])\n",
    "ax.set_zlim([0, 1])\n",
    "\n",
    "plt.title('3D Plot of Word Embeddings with Colored Vectors')\n",
    "plt.show()"
   ]
  },
  {
   "cell_type": "markdown",
   "id": "9754b4da-fc27-44fc-87b0-1b63c0f2ed3d",
   "metadata": {},
   "source": [
    "#### The second input token is the query vector"
   ]
  },
  {
   "cell_type": "code",
   "execution_count": 53,
   "id": "2819c459-6f5f-4f02-b893-3b5eaa7f622c",
   "metadata": {},
   "outputs": [
    {
     "name": "stdout",
     "output_type": "stream",
     "text": [
      "tensor([0.9544, 1.4950, 1.4754, 0.8434, 0.7070, 1.0865])\n"
     ]
    }
   ],
   "source": [
    "query = inputs[1]\n",
    "\n",
    "attn_scores_2 = torch.empty(inputs.shape[0])\n",
    "for i, x_i in enumerate(inputs):\n",
    "    attn_scores_2[i] = torch.dot(x_i, query)\n",
    "\n",
    "print(attn_scores_2)"
   ]
  },
  {
   "cell_type": "code",
   "execution_count": 54,
   "id": "3061e282-b433-4b38-8dd4-082a4ab9df43",
   "metadata": {},
   "outputs": [
    {
     "name": "stdout",
     "output_type": "stream",
     "text": [
      "Attention Weights: tensor([0.1385, 0.2379, 0.2333, 0.1240, 0.1082, 0.1581])\n",
      "Sum: tensor(1.)\n"
     ]
    }
   ],
   "source": [
    "def softmax_naive(x):\n",
    "    return torch.exp(x)/torch.exp(x).sum(dim=0)\n",
    "\n",
    "attn_weights_2_naive = softmax_naive(attn_scores_2)\n",
    "\n",
    "print(\"Attention Weights:\", attn_weights_2_naive)\n",
    "print(\"Sum:\", attn_weights_2_naive.sum())"
   ]
  },
  {
   "cell_type": "code",
   "execution_count": 55,
   "id": "23bd718e-5965-458f-9dd1-393487ed59bf",
   "metadata": {},
   "outputs": [
    {
     "name": "stdout",
     "output_type": "stream",
     "text": [
      "Attention weights: tensor([0.1385, 0.2379, 0.2333, 0.1240, 0.1082, 0.1581])\n",
      "Sum: tensor(1.)\n"
     ]
    }
   ],
   "source": [
    "attn_weights_2 = torch.softmax(attn_scores_2, dim=0)\n",
    "print(\"Attention weights:\", attn_weights_2)\n",
    "print(\"Sum:\", attn_weights_2.sum())"
   ]
  },
  {
   "cell_type": "markdown",
   "id": "e5253f9e-aa91-4b6b-b411-9ce9768d2cfd",
   "metadata": {},
   "source": [
    "#### The context vector z(2) is calculated as a weighted sum of input vectors. This involves multiplying each input vector by its corresponding attention weight."
   ]
  },
  {
   "cell_type": "code",
   "execution_count": 56,
   "id": "1f6a0d39-5a7e-464f-9789-90ac5d23442f",
   "metadata": {},
   "outputs": [
    {
     "name": "stdout",
     "output_type": "stream",
     "text": [
      "tensor([0.4419, 0.6515, 0.5683])\n"
     ]
    }
   ],
   "source": [
    "query = inputs[1] # 2nd input is the query \n",
    "\n",
    "context_vec_2 = torch.zeros(query.shape)\n",
    "for i, x_i in enumerate(inputs):\n",
    "    context_vec_2 += attn_weights_2[i]*x_i\n",
    "\n",
    "print(context_vec_2)"
   ]
  },
  {
   "cell_type": "code",
   "execution_count": 57,
   "id": "18295e9e-6b4e-4a30-8b80-3e144e61db41",
   "metadata": {},
   "outputs": [
    {
     "data": {
      "image/png": "[encoded data removed]",
      "text/plain": [
       "<Figure size 640x480 with 1 Axes>"
      ]
     },
     "metadata": {},
     "output_type": "display_data"
    },
    {
     "data": {
      "image/png": "[encoded data removed]",
      "text/plain": [
       "<Figure size 640x480 with 1 Axes>"
      ]
     },
     "metadata": {},
     "output_type": "display_data"
    }
   ],
   "source": [
    "inputs = torch.tensor(\n",
    "    [[0.43, 0.15, 0.89], # Your     (x^1)\n",
    "     [0.55, 0.87, 0.66], # journey  (x^2)\n",
    "     [0.57, 0.85, 0.64], # starts   (x^3)\n",
    "     [0.22, 0.58, 0.33], # with     (x^4)\n",
    "     [0.77, 0.25, 0.10], # one      (x^5)\n",
    "     [0.05, 0.80, 0.55], # step     (x^6)\n",
    "     [0.4419, 0.6515, 0.5683]]\n",
    ")\n",
    "\n",
    "words = ['Your', 'journey', 'starts', 'with', 'one', 'step', 'journey-context']\n",
    "\n",
    "# Extract x, y, z coordinates\n",
    "x_coords = inputs[:, 0].numpy()\n",
    "y_coords = inputs[:, 1].numpy()\n",
    "z_coords = inputs[:, 2].numpy()\n",
    "\n",
    "# Create a 3D plot\n",
    "fig = plt.figure()\n",
    "ax = fig.add_subplot(111, projection=\"3d\")\n",
    "\n",
    "for x, y, z, word in zip(x_coords, y_coords, z_coords, words):\n",
    "    ax.scatter(x, y, z)\n",
    "    ax.text(x, y, z, word, fontsize=10)\n",
    "\n",
    "ax.set_xlabel('X')\n",
    "ax.set_ylabel('Y')\n",
    "ax.set_zlabel('Z')\n",
    "\n",
    "plt.title(\"3D model embeddings\")\n",
    "plt.show()\n",
    "\n",
    "fig = plt.figure()\n",
    "ax = fig.add_subplot(111, projection='3d')\n",
    "\n",
    "# Plot each vector with a different color and annotate with the corresponding word\n",
    "for (x, y, z, word, color) in zip(x_coords, y_coords, z_coords, words, colors):\n",
    "    # Draw vector from origin to the point (x, y, z) with specified color and smaller arrow length ratio\n",
    "    ax.quiver(0, 0, 0, x, y, z, color=color, arrow_length_ratio=0.05)\n",
    "    ax.text(x, y, z, word, fontsize=10, color=color)\n",
    "\n",
    "# Set labels for axes\n",
    "ax.set_xlabel('X')\n",
    "ax.set_ylabel('Y')\n",
    "ax.set_zlabel('Z')\n",
    "\n",
    "# Set plot limits to keep arrows within the plot boundaries\n",
    "ax.set_xlim([0, 1])\n",
    "ax.set_ylim([0, 1])\n",
    "ax.set_zlim([0, 1])\n",
    "\n",
    "plt.title('3D Plot of Word Embeddings with Colored Vectors')\n",
    "plt.show()"
   ]
  },
  {
   "cell_type": "markdown",
   "id": "630744ad-31c0-48de-a2f5-21d547e31e3b",
   "metadata": {},
   "source": [
    "#### Finding context vectors for all inputs"
   ]
  },
  {
   "cell_type": "code",
   "execution_count": 58,
   "id": "8d15cdaf-47db-4f2c-9a8f-3b434ee77561",
   "metadata": {},
   "outputs": [
    {
     "name": "stdout",
     "output_type": "stream",
     "text": [
      "tensor([[0.9995, 0.9544, 0.9422, 0.4753, 0.4576, 0.6310, 0.7935],\n",
      "        [0.9544, 1.4950, 1.4754, 0.8434, 0.7070, 1.0865, 1.1849],\n",
      "        [0.9422, 1.4754, 1.4570, 0.8296, 0.7154, 1.0605, 1.1694],\n",
      "        [0.4753, 0.8434, 0.8296, 0.4937, 0.3474, 0.6565, 0.6626],\n",
      "        [0.4576, 0.7070, 0.7154, 0.3474, 0.6654, 0.2935, 0.5600],\n",
      "        [0.6310, 1.0865, 1.0605, 0.6565, 0.2935, 0.9450, 0.8559],\n",
      "        [0.7935, 1.1849, 1.1694, 0.6626, 0.5600, 0.8559, 0.9427]])\n"
     ]
    }
   ],
   "source": [
    "attn_scores = inputs@inputs.T\n",
    "print(attn_scores)"
   ]
  },
  {
   "cell_type": "code",
   "execution_count": 59,
   "id": "4b0907ea-22f9-4acd-94ab-014428c7567d",
   "metadata": {},
   "outputs": [
    {
     "name": "stdout",
     "output_type": "stream",
     "text": [
      "tensor([[0.1792, 0.1713, 0.1692, 0.1061, 0.1042, 0.1240, 0.1459],\n",
      "        [0.1180, 0.2026, 0.1986, 0.1056, 0.0921, 0.1346, 0.1486],\n",
      "        [0.1184, 0.2017, 0.1981, 0.1058, 0.0943, 0.1332, 0.1485],\n",
      "        [0.1223, 0.1768, 0.1744, 0.1246, 0.1077, 0.1467, 0.1476],\n",
      "        [0.1305, 0.1675, 0.1689, 0.1169, 0.1607, 0.1108, 0.1446],\n",
      "        [0.1180, 0.1861, 0.1813, 0.1211, 0.0842, 0.1615, 0.1478],\n",
      "        [0.1277, 0.1889, 0.1860, 0.1121, 0.1011, 0.1359, 0.1483]])\n"
     ]
    }
   ],
   "source": [
    "attn_weights = torch.softmax(attn_scores, dim=-1)\n",
    "print(attn_weights)"
   ]
  },
  {
   "cell_type": "code",
   "execution_count": 60,
   "id": "a348b74a-e5ce-490c-b9ce-45000acaad3b",
   "metadata": {},
   "outputs": [
    {
     "name": "stdout",
     "output_type": "stream",
     "text": [
      "1.0\n",
      "Sum of all elements in a row: tensor([1.0000, 1.0000, 1.0000, 1.0000, 1.0000, 1.0000, 1.0000])\n"
     ]
    }
   ],
   "source": [
    "row_2_sum = sum([0.1184, 0.2017, 0.1981, 0.1058, 0.0943, 0.1332, 0.1485])\n",
    "print(row_2_sum)\n",
    "print(\"Sum of all elements in a row:\" , attn_weights.sum(dim=-1))"
   ]
  },
  {
   "cell_type": "code",
   "execution_count": 61,
   "id": "c397cd3c-5e17-4431-8bb6-c02bb202f152",
   "metadata": {},
   "outputs": [
    {
     "name": "stdout",
     "output_type": "stream",
     "text": [
      "tensor([[0.4420, 0.6016, 0.5774],\n",
      "        [0.4419, 0.6515, 0.5683],\n",
      "        [0.4429, 0.6499, 0.5673],\n",
      "        [0.4321, 0.6330, 0.5536],\n",
      "        [0.4635, 0.5997, 0.5326],\n",
      "        [0.4213, 0.6505, 0.5651],\n",
      "        [0.4397, 0.6372, 0.5635]])\n"
     ]
    }
   ],
   "source": [
    "all_context_weights = attn_weights @ inputs\n",
    "print(all_context_weights)"
   ]
  },
  {
   "cell_type": "code",
   "execution_count": 62,
   "id": "66327137-45de-4274-8432-1c80e110fd3a",
   "metadata": {},
   "outputs": [
    {
     "name": "stdout",
     "output_type": "stream",
     "text": [
      "Previous 2nd context vector: tensor([0.4419, 0.6515, 0.5683])\n"
     ]
    }
   ],
   "source": [
    "print(\"Previous 2nd context vector:\", context_vec_2)"
   ]
  },
  {
   "cell_type": "markdown",
   "id": "6133ba5a-df85-4227-af6f-4dacb08bb0c0",
   "metadata": {},
   "source": [
    "# Implementing Attention with trainable Weights"
   ]
  },
  {
   "cell_type": "code",
   "execution_count": 63,
   "id": "58f3d9e3-b204-49b8-a14f-d8e45c9ea604",
   "metadata": {},
   "outputs": [],
   "source": [
    "inputs = torch.tensor(\n",
    "  [[0.43, 0.15, 0.89], # Your     (x^1)\n",
    "   [0.55, 0.87, 0.66], # journey  (x^2)\n",
    "   [0.57, 0.85, 0.64], # starts   (x^3)\n",
    "   [0.22, 0.58, 0.33], # with     (x^4)\n",
    "   [0.77, 0.25, 0.10], # one      (x^5)\n",
    "   [0.05, 0.80, 0.55]] # step     (x^6)\n",
    ")"
   ]
  },
  {
   "cell_type": "code",
   "execution_count": 64,
   "id": "cbc4df41-4d90-409b-a61e-75f8da012de8",
   "metadata": {},
   "outputs": [],
   "source": [
    "x_2 = inputs[1] #A\n",
    "batch_size, d_in = inputs.shape #B\n",
    "d_out = 2 #C"
   ]
  },
  {
   "cell_type": "code",
   "execution_count": 65,
   "id": "99bb46ec-da8e-4677-a0dc-8b9eec78eebe",
   "metadata": {},
   "outputs": [],
   "source": [
    "torch.manual_seed(123)\n",
    "W_query = torch.nn.Parameter(torch.rand(d_in, d_out), requires_grad=False)\n",
    "W_key = torch.nn.Parameter(torch.rand(d_in, d_out), requires_grad=False)\n",
    "W_value = torch.nn.Parameter(torch.rand(d_in, d_out), requires_grad=False)"
   ]
  },
  {
   "cell_type": "code",
   "execution_count": 66,
   "id": "057bfe4a-6fb1-47cb-a17d-ccee7a9a113a",
   "metadata": {},
   "outputs": [
    {
     "name": "stdout",
     "output_type": "stream",
     "text": [
      "Parameter containing:\n",
      "tensor([[0.2961, 0.5166],\n",
      "        [0.2517, 0.6886],\n",
      "        [0.0740, 0.8665]])\n",
      "Parameter containing:\n",
      "tensor([[0.1366, 0.1025],\n",
      "        [0.1841, 0.7264],\n",
      "        [0.3153, 0.6871]])\n",
      "Parameter containing:\n",
      "tensor([[0.0756, 0.1966],\n",
      "        [0.3164, 0.4017],\n",
      "        [0.1186, 0.8274]])\n"
     ]
    }
   ],
   "source": [
    "print(W_query)\n",
    "print(W_key)\n",
    "print(W_value)"
   ]
  },
  {
   "cell_type": "code",
   "execution_count": 67,
   "id": "7143c782-9075-49ca-9d84-5672262878f0",
   "metadata": {},
   "outputs": [],
   "source": [
    "query_2 = x_2 @ W_query\n",
    "key_2 = x_2 @ W_key\n",
    "value_2 = x_2 @ W_value"
   ]
  },
  {
   "cell_type": "code",
   "execution_count": 68,
   "id": "132c82da-706f-4ae5-b81a-519cc4784506",
   "metadata": {},
   "outputs": [
    {
     "name": "stdout",
     "output_type": "stream",
     "text": [
      "tensor([0.4306, 1.4551]) tensor([0.4433, 1.1419]) tensor([0.3951, 1.0037])\n"
     ]
    }
   ],
   "source": [
    "print(query_2, key_2, value_2) "
   ]
  },
  {
   "cell_type": "code",
   "execution_count": 69,
   "id": "77b5265d-eeab-46c6-823a-ba58315c78a0",
   "metadata": {},
   "outputs": [],
   "source": [
    "queries = inputs @ W_query\n",
    "keys = inputs @ W_key\n",
    "values = inputs @ W_value"
   ]
  },
  {
   "cell_type": "code",
   "execution_count": 70,
   "id": "247a2c20-a8ae-4726-9aed-5f10b131c487",
   "metadata": {},
   "outputs": [
    {
     "name": "stdout",
     "output_type": "stream",
     "text": [
      "Keys shape: torch.Size([6, 2])\n",
      "values shape: torch.Size([6, 2])\n",
      "queries shape: torch.Size([6, 2])\n"
     ]
    }
   ],
   "source": [
    "print(\"Keys shape:\",keys.shape)\n",
    "print(\"values shape:\",values.shape)\n",
    "print(\"queries shape:\", queries.shape)"
   ]
  },
  {
   "cell_type": "markdown",
   "id": "79da2dd9-e72e-421d-ada4-f353c003fcdf",
   "metadata": {},
   "source": [
    "print(values)"
   ]
  },
  {
   "cell_type": "code",
   "execution_count": 71,
   "id": "32ca1e8b-9738-4506-a0cb-093858a38afd",
   "metadata": {},
   "outputs": [
    {
     "name": "stdout",
     "output_type": "stream",
     "text": [
      "tensor(1.8524)\n"
     ]
    }
   ],
   "source": [
    "# Attention score of w22\n",
    "keys_2 = keys[1] #A\n",
    "attn_score_22 = query_2.dot(keys_2)\n",
    "print(attn_score_22)"
   ]
  },
  {
   "cell_type": "code",
   "execution_count": 72,
   "id": "33b9f331-b4d8-41ac-8573-6bd086f9af92",
   "metadata": {},
   "outputs": [
    {
     "name": "stdout",
     "output_type": "stream",
     "text": [
      "tensor([0.9544, 1.4950, 1.4754, 0.8434, 0.7070, 1.0865])\n"
     ]
    }
   ],
   "source": [
    "# Attention score of 2nd row in the query wrt keys matrix\n",
    "attn_scores_2 - query_2 @ keys.T\n",
    "print(attn_scores_2)"
   ]
  },
  {
   "cell_type": "code",
   "execution_count": 73,
   "id": "5a4508c6-ee69-4411-b3d2-f7b926c3ed9b",
   "metadata": {},
   "outputs": [
    {
     "name": "stdout",
     "output_type": "stream",
     "text": [
      "tensor([[0.9231, 1.3545, 1.3241, 0.7910, 0.4032, 1.1330],\n",
      "        [1.2705, 1.8524, 1.8111, 1.0795, 0.5577, 1.5440],\n",
      "        [1.2544, 1.8284, 1.7877, 1.0654, 0.5508, 1.5238],\n",
      "        [0.6973, 1.0167, 0.9941, 0.5925, 0.3061, 0.8475],\n",
      "        [0.6114, 0.8819, 0.8626, 0.5121, 0.2707, 0.7307],\n",
      "        [0.8995, 1.3165, 1.2871, 0.7682, 0.3937, 1.0996]])\n"
     ]
    }
   ],
   "source": [
    "# Attention scores of every qurery wrt all the other keys\n",
    "attn_scores = queries @ keys.T\n",
    "print(attn_scores)"
   ]
  },
  {
   "cell_type": "code",
   "execution_count": 74,
   "id": "c14b5a9a-ab7c-4a6b-b602-906a8c2b50a5",
   "metadata": {},
   "outputs": [
    {
     "name": "stdout",
     "output_type": "stream",
     "text": [
      "tensor([0.1476, 0.2164, 0.2134, 0.1365, 0.1240, 0.1621])\n",
      "2\n"
     ]
    }
   ],
   "source": [
    "# Computing the attention weights by scaling the attention scores and usning the softmax function.\n",
    "d_k = keys.shape[-1]\n",
    "attn_weights_2 = torch.softmax(attn_scores_2/d_k**0.5, dim=-1)\n",
    "print(attn_weights_2)\n",
    "print(d_k)"
   ]
  },
  {
   "cell_type": "markdown",
   "id": "bea54fe7-b166-4481-a8d5-af17f7b6bc5b",
   "metadata": {},
   "source": [
    "#### Now we scale the attention scores by dividing them by the square root of the embedding dimensions of the keys."
   ]
  },
  {
   "cell_type": "code",
   "execution_count": 75,
   "id": "40a248e5-9bad-409c-90da-4acad3e9a5da",
   "metadata": {},
   "outputs": [
    {
     "name": "stdout",
     "output_type": "stream",
     "text": [
      "softmax without scaling: tensor([0.1925, 0.1426, 0.2351, 0.1426, 0.2872])\n",
      "Softmax after scaling (tensor*8): tensor([0.0326, 0.0030, 0.1615, 0.0030, 0.8000])\n"
     ]
    }
   ],
   "source": [
    "tensor = torch.tensor([0.1, -0.2, 0.3, -0.2, 0.5])\n",
    "\n",
    "# Applying softmax function w/o scaling\n",
    "softmax_result = torch.softmax(tensor,dim=-1)\n",
    "print(\"softmax without scaling:\",softmax_result)\n",
    "\n",
    "scaled_tensor = tensor*8\n",
    "softmax_scaled = torch.softmax(scaled_tensor, dim=-1)\n",
    "print(\"Softmax after scaling (tensor*8):\" , softmax_scaled)"
   ]
  },
  {
   "cell_type": "markdown",
   "id": "beb7fd2a-80ce-49db-b5e1-ed588cfac650",
   "metadata": {},
   "source": [
    "#### Reasons for applying sqrt\n",
    "#### 1."
   ]
  },
  {
   "cell_type": "code",
   "execution_count": 76,
   "id": "e61a52cd-142a-40c8-ae7b-ebbe32cfa885",
   "metadata": {},
   "outputs": [
    {
     "name": "stdout",
     "output_type": "stream",
     "text": [
      "Variance before scaling (dim=5): 4.861417014742436\n",
      "variance after scaling (dim=5): 0.0\n",
      "Variance before scaling (dim=5): 101.81234220892723\n",
      "variance after scaling (dim=5): 0.0\n"
     ]
    }
   ],
   "source": [
    "import numpy as np\n",
    "\n",
    "# Function to calculate the varience before and after scaling\n",
    "def compute_variance(dim, num_trails=1000):\n",
    "    dot_products = []\n",
    "    scaled_dot_products = []\n",
    "\n",
    "    # Generate multiple random vectors and compute dot products\n",
    "    for _ in range(num_trails):\n",
    "        q = np.random.randn(dim)\n",
    "        k = np.random.randn(dim)\n",
    "\n",
    "        # Calculating dot product\n",
    "        dot_product = np.dot(q, k)\n",
    "        dot_products.append(dot_product)\n",
    "        \n",
    "        # Scaling the computed dot products\n",
    "        scaled_dot_product = dot_product/np.sqrt(dim)\n",
    "        scaled_dot_products = np.var(scaled_dot_product)\n",
    "        \n",
    "    variance_before_scaling = np.var(dot_products)\n",
    "    variance_after_scaling = np.var(scaled_dot_products)\n",
    "\n",
    "    return variance_before_scaling , variance_after_scaling\n",
    "\n",
    "variance_before_5, variance_after_5 = compute_variance(5)\n",
    "print(f\"Variance before scaling (dim=5): {variance_before_5}\")\n",
    "print(f\"variance after scaling (dim=5): {variance_after_5}\")\n",
    "\n",
    "variance_before_100, variance_after_100 = compute_variance(100)\n",
    "print(f\"Variance before scaling (dim=5): {variance_before_100}\")\n",
    "print(f\"variance after scaling (dim=5): {variance_after_100}\")\n"
   ]
  },
  {
   "cell_type": "code",
   "execution_count": 77,
   "id": "acc78143-c439-4012-b42f-bded687c4e3d",
   "metadata": {},
   "outputs": [
    {
     "name": "stdout",
     "output_type": "stream",
     "text": [
      "tensor([0.2991, 0.8010])\n"
     ]
    }
   ],
   "source": [
    "# Now we compute context vectors as weighted sum of other value vectors.\n",
    "# The attention weights serve as the weighting factor that weighs the respective importance of each value vector \n",
    "\n",
    "context_vector_2 = attn_weights_2 @ values\n",
    "print(context_vector_2)"
   ]
  },
  {
   "cell_type": "code",
   "execution_count": 78,
   "id": "debc69ac-c858-48b0-84da-c2ff8b9e91b5",
   "metadata": {},
   "outputs": [
    {
     "name": "stdout",
     "output_type": "stream",
     "text": [
      "attention weights: tensor([[0.1551, 0.2104, 0.2059, 0.1413, 0.1074, 0.1799],\n",
      "        [0.1500, 0.2264, 0.2199, 0.1311, 0.0906, 0.1820],\n",
      "        [0.1503, 0.2256, 0.2192, 0.1315, 0.0914, 0.1819],\n",
      "        [0.1591, 0.1994, 0.1962, 0.1477, 0.1206, 0.1769],\n",
      "        [0.1610, 0.1949, 0.1923, 0.1501, 0.1265, 0.1752],\n",
      "        [0.1557, 0.2092, 0.2048, 0.1419, 0.1089, 0.1794]])\n",
      "context vector: tensor([[0.2996, 0.8053],\n",
      "        [0.3061, 0.8210],\n",
      "        [0.3058, 0.8203],\n",
      "        [0.2948, 0.7939],\n",
      "        [0.2927, 0.7891],\n",
      "        [0.2990, 0.8040]])\n"
     ]
    }
   ],
   "source": [
    "attn_weights = torch.softmax(attn_scores/d_k**0.5, dim=-1)\n",
    "print(f\"attention weights: {attn_weights}\")\n",
    "\n",
    "context_vector = attn_weights @ values\n",
    "print(f\"context vector: {context_vector}\")"
   ]
  },
  {
   "cell_type": "markdown",
   "id": "5b993213-0dc0-4f2b-ab4f-0390c0193bc7",
   "metadata": {},
   "source": [
    "# Implementing a Compact Self Attention Classs"
   ]
  },
  {
   "cell_type": "markdown",
   "id": "8b9fa362-02fa-4a95-98b5-9698a4c8dc5c",
   "metadata": {},
   "source": [
    "#### Here we will incorperate causal attention and dropout modification in self-attention"
   ]
  },
  {
   "cell_type": "code",
   "execution_count": 79,
   "id": "40c5d302-567a-40b3-93c9-9a94782eed75",
   "metadata": {},
   "outputs": [],
   "source": [
    "import torch.nn as nn\n",
    "\n",
    "class selfAttention_v1(nn.Module):\n",
    "\n",
    "    def __init__(self, d_in, d_out):\n",
    "        super().__init__()\n",
    "        self.W_query = nn.Parameter(torch.rand(d_in,d_out))\n",
    "        self.W_key = nn.Parameter(torch.rand(d_in,d_out))\n",
    "        self.W_value = nn.Parameter(torch.rand(d_in,d_out))\n",
    "    \n",
    "    def forward(self,x):\n",
    "        keys = x @ self.W_key\n",
    "        queries = x @ self.W_query\n",
    "        values = x @ self.W_value\n",
    "\n",
    "        attn_score = queries @ keys.T\n",
    "        attn_weights = torch.softmax(\n",
    "            attn_score/keys.shape[-1]**0.5,dim=-1\n",
    "        )\n",
    "        context_vec = attn_weights @ values\n",
    "        return context_vec"
   ]
  },
  {
   "cell_type": "code",
   "execution_count": 80,
   "id": "c9cbd88d-ffbb-4cec-b46d-e24befeed28c",
   "metadata": {},
   "outputs": [
    {
     "name": "stdout",
     "output_type": "stream",
     "text": [
      "tensor([[0.2996, 0.8053],\n",
      "        [0.3061, 0.8210],\n",
      "        [0.3058, 0.8203],\n",
      "        [0.2948, 0.7939],\n",
      "        [0.2927, 0.7891],\n",
      "        [0.2990, 0.8040]], grad_fn=<MmBackward0>)\n"
     ]
    }
   ],
   "source": [
    "torch.manual_seed(123)\n",
    "sa_v1 = selfAttention_v1(d_in, d_out)\n",
    "print(sa_v1(inputs))"
   ]
  },
  {
   "cell_type": "code",
   "execution_count": 81,
   "id": "0ddcaf14-66e2-492b-807b-4e07585e6090",
   "metadata": {},
   "outputs": [],
   "source": [
    "class selfAttention_v2(nn.Module):\n",
    "\n",
    "    def __init__(self, d_in, d_out, qkv_bias=False):\n",
    "        super().__init__()\n",
    "        self.W_query = nn.Linear(d_in, d_out, bias=qkv_bias)\n",
    "        self.W_key = nn.Linear(d_in, d_out, bias=qkv_bias)\n",
    "        self.W_value = nn.Linear(d_in, d_out, bias=qkv_bias)\n",
    "\n",
    "    def forward(self, x):\n",
    "        keys = self.W_key(x)\n",
    "        queries = self.W_query(x)\n",
    "        values = self.W_value(x)\n",
    "\n",
    "        attn_scores = queries @ keys.T\n",
    "        attn_weights = torch.softmax(attn_scores/keys.shape[-1]**0.5,dim=-1)\n",
    "        context_vec = attn_weights @ values\n",
    "        return context_vec\n",
    "        \n",
    "        \n",
    "        "
   ]
  },
  {
   "cell_type": "code",
   "execution_count": 82,
   "id": "2f54b680-74e8-4358-8fec-b7738e29c961",
   "metadata": {},
   "outputs": [
    {
     "name": "stdout",
     "output_type": "stream",
     "text": [
      "tensor([[-0.5337, -0.1051],\n",
      "        [-0.5323, -0.1080],\n",
      "        [-0.5323, -0.1079],\n",
      "        [-0.5297, -0.1076],\n",
      "        [-0.5311, -0.1066],\n",
      "        [-0.5299, -0.1081]], grad_fn=<MmBackward0>)\n"
     ]
    }
   ],
   "source": [
    "torch.manual_seed(123)\n",
    "sa_v2 = selfAttention_v2(d_in, d_out)\n",
    "print(sa_v2(inputs))"
   ]
  },
  {
   "cell_type": "markdown",
   "id": "4af6950c-61d2-4ec8-ab05-2c8137304ddb",
   "metadata": {},
   "source": [
    "# Hiding Future Words with Causal Attention"
   ]
  },
  {
   "cell_type": "code",
   "execution_count": 83,
   "id": "d2e2bfd1-c387-47dd-a2db-ce15189fdb30",
   "metadata": {},
   "outputs": [],
   "source": [
    "inputs = torch.tensor(\n",
    "  [[0.43, 0.15, 0.89], # Your     (x^1)\n",
    "   [0.55, 0.87, 0.66], # journey  (x^2)\n",
    "   [0.57, 0.85, 0.64], # starts   (x^3)\n",
    "   [0.22, 0.58, 0.33], # with     (x^4)\n",
    "   [0.77, 0.25, 0.10], # one      (x^5)\n",
    "   [0.05, 0.80, 0.55]] # step     (x^6)\n",
    ")"
   ]
  },
  {
   "cell_type": "code",
   "execution_count": 84,
   "id": "334ef45d-23e8-46e5-a4ec-1bb49ba9259c",
   "metadata": {},
   "outputs": [
    {
     "name": "stdout",
     "output_type": "stream",
     "text": [
      "tensor([[0.1717, 0.1762, 0.1761, 0.1555, 0.1627, 0.1579],\n",
      "        [0.1636, 0.1749, 0.1746, 0.1612, 0.1605, 0.1652],\n",
      "        [0.1637, 0.1749, 0.1746, 0.1611, 0.1606, 0.1651],\n",
      "        [0.1636, 0.1704, 0.1702, 0.1652, 0.1632, 0.1674],\n",
      "        [0.1667, 0.1722, 0.1721, 0.1618, 0.1633, 0.1639],\n",
      "        [0.1624, 0.1709, 0.1706, 0.1654, 0.1625, 0.1682]],\n",
      "       grad_fn=<SoftmaxBackward0>)\n"
     ]
    }
   ],
   "source": [
    "queries = sa_v2.W_query(inputs)\n",
    "keys = sa_v2.W_key(inputs)\n",
    "attn_scores = queries @ keys.T\n",
    "attn_weights = torch.softmax(attn_scores / keys.shape[-1]**0.5, dim=1)\n",
    "print(attn_weights)"
   ]
  },
  {
   "cell_type": "code",
   "execution_count": 85,
   "id": "c4f13044-db0a-4cfc-b036-cb7db4742e9e",
   "metadata": {},
   "outputs": [
    {
     "data": {
      "text/plain": [
       "tensor([[1., 1., 1., 1.],\n",
       "        [1., 1., 1., 1.],\n",
       "        [1., 1., 1., 1.],\n",
       "        [1., 1., 1., 1.]])"
      ]
     },
     "execution_count": 85,
     "metadata": {},
     "output_type": "execute_result"
    }
   ],
   "source": [
    "torch.ones(context_length, context_length)"
   ]
  },
  {
   "cell_type": "markdown",
   "id": "92ac5ae0-aaaa-4a2d-8d67-9816931d8154",
   "metadata": {},
   "source": [
    "#### Pytorch tril func to create a Lower Trianghlar matrix"
   ]
  },
  {
   "cell_type": "code",
   "execution_count": 86,
   "id": "9c29aea8-22b2-41bb-95eb-ca4b473bdfee",
   "metadata": {},
   "outputs": [
    {
     "name": "stdout",
     "output_type": "stream",
     "text": [
      "tensor([[1., 0., 0., 0., 0., 0.],\n",
      "        [1., 1., 0., 0., 0., 0.],\n",
      "        [1., 1., 1., 0., 0., 0.],\n",
      "        [1., 1., 1., 1., 0., 0.],\n",
      "        [1., 1., 1., 1., 1., 0.],\n",
      "        [1., 1., 1., 1., 1., 1.]])\n"
     ]
    }
   ],
   "source": [
    "context_length = attn_scores.shape[0]\n",
    "mask_simple = torch.tril(torch.ones(context_length, context_length))\n",
    "print(mask_simple)"
   ]
  },
  {
   "cell_type": "markdown",
   "id": "0b783c78-e117-4ce8-a573-3e6ac58712c0",
   "metadata": {},
   "source": [
    "#### The lower triangular matrix created the above elements for building a causala attention mechanism "
   ]
  },
  {
   "cell_type": "code",
   "execution_count": 87,
   "id": "6f41eeae-b6fb-4a3b-bec7-6a5d4f0e7ccc",
   "metadata": {},
   "outputs": [
    {
     "name": "stdout",
     "output_type": "stream",
     "text": [
      "tensor([[0.1717, 0.0000, 0.0000, 0.0000, 0.0000, 0.0000],\n",
      "        [0.1636, 0.1749, 0.0000, 0.0000, 0.0000, 0.0000],\n",
      "        [0.1637, 0.1749, 0.1746, 0.0000, 0.0000, 0.0000],\n",
      "        [0.1636, 0.1704, 0.1702, 0.1652, 0.0000, 0.0000],\n",
      "        [0.1667, 0.1722, 0.1721, 0.1618, 0.1633, 0.0000],\n",
      "        [0.1624, 0.1709, 0.1706, 0.1654, 0.1625, 0.1682]],\n",
      "       grad_fn=<MulBackward0>)\n"
     ]
    }
   ],
   "source": [
    "# multiplying attention weights with mask_simple matrix for creating masking effect\n",
    "masked_simple = attn_weights * mask_simple\n",
    "print(masked_simple)"
   ]
  },
  {
   "cell_type": "markdown",
   "id": "47cf7307-06e5-4f9d-a8ec-23c80bc97a04",
   "metadata": {},
   "source": [
    "#### Renormalize attention weights to sum upto again in each row bydividing each element in each row with the sum in each row"
   ]
  },
  {
   "cell_type": "code",
   "execution_count": 88,
   "id": "e21e18be-4ab3-443e-8b24-4c6ed70ec18b",
   "metadata": {},
   "outputs": [
    {
     "name": "stdout",
     "output_type": "stream",
     "text": [
      "tensor([[1.0000, 0.0000, 0.0000, 0.0000, 0.0000, 0.0000],\n",
      "        [0.4833, 0.5167, 0.0000, 0.0000, 0.0000, 0.0000],\n",
      "        [0.3190, 0.3408, 0.3402, 0.0000, 0.0000, 0.0000],\n",
      "        [0.2445, 0.2545, 0.2542, 0.2468, 0.0000, 0.0000],\n",
      "        [0.1994, 0.2060, 0.2058, 0.1935, 0.1953, 0.0000],\n",
      "        [0.1624, 0.1709, 0.1706, 0.1654, 0.1625, 0.1682]],\n",
      "       grad_fn=<DivBackward0>)\n"
     ]
    }
   ],
   "source": [
    "row_sum = masked_simple.sum(dim=1, keepdim=True)\n",
    "masked_simple_norm = masked_simple / row_sum\n",
    "print(masked_simple_norm)"
   ]
  },
  {
   "cell_type": "markdown",
   "id": "b48c02fa-8dbf-4a74-bb0e-c9913fa64690",
   "metadata": {},
   "source": [
    "#### Efficient computation of masked attention weights"
   ]
  },
  {
   "cell_type": "markdown",
   "id": "fa20106e-2ab2-4c1e-b798-9c8b912efc55",
   "metadata": {},
   "source": [
    "#### The softmax function converts its inputs into probability distribution.\n",
    "#### When negative infinite values are present in the row, the softmax function treats them as zero probability"
   ]
  },
  {
   "cell_type": "code",
   "execution_count": 89,
   "id": "a5d4e565-4eec-42eb-a18c-7b7724624f30",
   "metadata": {},
   "outputs": [
    {
     "name": "stdout",
     "output_type": "stream",
     "text": [
      "tensor([[0.3111, 0.3479, 0.3471, 0.1714, 0.2350, 0.1928],\n",
      "        [0.1655, 0.2602, 0.2576, 0.1445, 0.1384, 0.1790],\n",
      "        [0.1667, 0.2602, 0.2577, 0.1443, 0.1391, 0.1784],\n",
      "        [0.0510, 0.1080, 0.1064, 0.0643, 0.0476, 0.0835],\n",
      "        [0.1415, 0.1875, 0.1863, 0.0987, 0.1121, 0.1174],\n",
      "        [0.0476, 0.1192, 0.1171, 0.0731, 0.0477, 0.0966]],\n",
      "       grad_fn=<MmBackward0>)\n"
     ]
    }
   ],
   "source": [
    "print(attn_scores)"
   ]
  },
  {
   "cell_type": "code",
   "execution_count": 90,
   "id": "d2d7e9d2-06ce-4e48-b44a-a47924f475f5",
   "metadata": {},
   "outputs": [
    {
     "data": {
      "text/plain": [
       "tensor([[1., 1., 1., 1., 1., 1.],\n",
       "        [0., 1., 1., 1., 1., 1.],\n",
       "        [0., 0., 1., 1., 1., 1.],\n",
       "        [0., 0., 0., 1., 1., 1.],\n",
       "        [0., 0., 0., 0., 1., 1.],\n",
       "        [0., 0., 0., 0., 0., 1.]])"
      ]
     },
     "execution_count": 90,
     "metadata": {},
     "output_type": "execute_result"
    }
   ],
   "source": [
    "torch.triu(torch.ones(context_length, context_length))"
   ]
  },
  {
   "cell_type": "code",
   "execution_count": 91,
   "id": "57754c14-109e-478f-b12f-4fc6da0023fe",
   "metadata": {},
   "outputs": [
    {
     "name": "stdout",
     "output_type": "stream",
     "text": [
      "tensor([[0.3111,   -inf,   -inf,   -inf,   -inf,   -inf],\n",
      "        [0.1655, 0.2602,   -inf,   -inf,   -inf,   -inf],\n",
      "        [0.1667, 0.2602, 0.2577,   -inf,   -inf,   -inf],\n",
      "        [0.0510, 0.1080, 0.1064, 0.0643,   -inf,   -inf],\n",
      "        [0.1415, 0.1875, 0.1863, 0.0987, 0.1121,   -inf],\n",
      "        [0.0476, 0.1192, 0.1171, 0.0731, 0.0477, 0.0966]],\n",
      "       grad_fn=<MaskedFillBackward0>)\n"
     ]
    }
   ],
   "source": [
    "mask = torch.triu(torch.ones(context_length, context_length), diagonal=1)\n",
    "masked = attn_scores.masked_fill(mask.bool(), -torch.inf)\n",
    "print(masked)"
   ]
  },
  {
   "cell_type": "code",
   "execution_count": 92,
   "id": "401e723b-0684-495c-8111-87077c3bba1f",
   "metadata": {},
   "outputs": [
    {
     "name": "stdout",
     "output_type": "stream",
     "text": [
      "tensor([[1.0000, 0.0000, 0.0000, 0.0000, 0.0000, 0.0000],\n",
      "        [0.4833, 0.5167, 0.0000, 0.0000, 0.0000, 0.0000],\n",
      "        [0.3190, 0.3408, 0.3402, 0.0000, 0.0000, 0.0000],\n",
      "        [0.2445, 0.2545, 0.2542, 0.2468, 0.0000, 0.0000],\n",
      "        [0.1994, 0.2060, 0.2058, 0.1935, 0.1953, 0.0000],\n",
      "        [0.1624, 0.1709, 0.1706, 0.1654, 0.1625, 0.1682]],\n",
      "       grad_fn=<SoftmaxBackward0>)\n"
     ]
    }
   ],
   "source": [
    "attn_weights = torch.softmax(masked/keys.shape[-1]**0.5, dim=-1)\n",
    "print(attn_weights)"
   ]
  },
  {
   "cell_type": "markdown",
   "id": "19e9e43c-cf86-4354-a660-dd4a10f36e9e",
   "metadata": {},
   "source": [
    "# Masking Additional Attention Weights with dropouts"
   ]
  },
  {
   "cell_type": "markdown",
   "id": "2a672250-cf73-4bda-b2b1-413b6d6a403f",
   "metadata": {},
   "source": [
    "#### We use dropout rate 50% which means masking half of the attention weights\n",
    "#### We apply pytorch dropout implementation to  first 6x6 tensor consistting of ines for illustration purpose"
   ]
  },
  {
   "cell_type": "code",
   "execution_count": 93,
   "id": "43e3e4e2-6e7c-4fd2-a182-b83dadb98b6e",
   "metadata": {},
   "outputs": [
    {
     "name": "stdout",
     "output_type": "stream",
     "text": [
      "tensor([[1., 1., 1., 1., 1., 1.],\n",
      "        [1., 1., 1., 1., 1., 1.],\n",
      "        [1., 1., 1., 1., 1., 1.],\n",
      "        [1., 1., 1., 1., 1., 1.],\n",
      "        [1., 1., 1., 1., 1., 1.],\n",
      "        [1., 1., 1., 1., 1., 1.]])\n"
     ]
    }
   ],
   "source": [
    "example = torch.ones(6,6)\n",
    "print(example)"
   ]
  },
  {
   "cell_type": "code",
   "execution_count": 94,
   "id": "aec34174-ed93-4298-876c-28cd8d56b74d",
   "metadata": {},
   "outputs": [
    {
     "name": "stdout",
     "output_type": "stream",
     "text": [
      "tensor([[2., 2., 0., 2., 2., 0.],\n",
      "        [0., 0., 0., 2., 0., 2.],\n",
      "        [2., 2., 2., 2., 0., 2.],\n",
      "        [0., 2., 2., 0., 0., 2.],\n",
      "        [0., 2., 0., 2., 0., 2.],\n",
      "        [0., 2., 2., 2., 2., 0.]])\n"
     ]
    }
   ],
   "source": [
    "torch.manual_seed(123)\n",
    "dropout = nn.Dropout(0.5)\n",
    "example = torch.ones(6,6)\n",
    "print(dropout(example))"
   ]
  },
  {
   "cell_type": "markdown",
   "id": "e0f22ba0-f3cd-40f0-b92f-4ede6f50d20d",
   "metadata": {},
   "source": [
    "#### Apply dropout to the attention weight matrix"
   ]
  },
  {
   "cell_type": "code",
   "execution_count": 95,
   "id": "7ec3b4ce-062b-462d-acd0-8262b8951cfc",
   "metadata": {},
   "outputs": [
    {
     "name": "stdout",
     "output_type": "stream",
     "text": [
      "tensor([[2.0000, 0.0000, 0.0000, 0.0000, 0.0000, 0.0000],\n",
      "        [0.0000, 0.0000, 0.0000, 0.0000, 0.0000, 0.0000],\n",
      "        [0.6380, 0.6816, 0.6804, 0.0000, 0.0000, 0.0000],\n",
      "        [0.0000, 0.5090, 0.5085, 0.0000, 0.0000, 0.0000],\n",
      "        [0.0000, 0.4120, 0.0000, 0.3869, 0.0000, 0.0000],\n",
      "        [0.0000, 0.3418, 0.3413, 0.3308, 0.3249, 0.0000]],\n",
      "       grad_fn=<MulBackward0>)\n"
     ]
    }
   ],
   "source": [
    "torch.manual_seed(123)\n",
    "print(dropout(attn_weights))"
   ]
  },
  {
   "cell_type": "markdown",
   "id": "74b516d1-0180-4a6f-b4db-fda29908defb",
   "metadata": {},
   "source": [
    "#### The above resulting attention weight matrix now has additional elements zeroed out and remaining ones rescaled."
   ]
  },
  {
   "cell_type": "markdown",
   "id": "fcbb06cd-ec47-4fd3-8a56-048d4e5bf743",
   "metadata": {},
   "source": [
    "# Implementing compact causal attention class"
   ]
  },
  {
   "cell_type": "markdown",
   "id": "df318442-9a01-49ec-9017-acf2a4554e85",
   "metadata": {},
   "source": [
    "#### Here we will incorporate causal attention and dropout modifications into self-attention python class"
   ]
  },
  {
   "cell_type": "markdown",
   "id": "f381c02f-bfba-4140-8cbc-1631bf8617a2",
   "metadata": {},
   "source": [
    "#### 2 inputs with 6 tokens each and each token has three dimensions. The 2 inputs is the batch size .\n",
    "#### Hence the dimension of the matrix formed will be (2,6,3)."
   ]
  },
  {
   "cell_type": "code",
   "execution_count": 96,
   "id": "e2eaac96-a5bd-45bb-9e00-b7bd5c0ba7e9",
   "metadata": {},
   "outputs": [
    {
     "name": "stdout",
     "output_type": "stream",
     "text": [
      "tensor([[[0.4300, 0.1500, 0.8900],\n",
      "         [0.5500, 0.8700, 0.6600],\n",
      "         [0.5700, 0.8500, 0.6400],\n",
      "         [0.2200, 0.5800, 0.3300],\n",
      "         [0.7700, 0.2500, 0.1000],\n",
      "         [0.0500, 0.8000, 0.5500]],\n",
      "\n",
      "        [[0.4300, 0.1500, 0.8900],\n",
      "         [0.5500, 0.8700, 0.6600],\n",
      "         [0.5700, 0.8500, 0.6400],\n",
      "         [0.2200, 0.5800, 0.3300],\n",
      "         [0.7700, 0.2500, 0.1000],\n",
      "         [0.0500, 0.8000, 0.5500]]])\n",
      "torch.Size([2, 6, 3])\n"
     ]
    }
   ],
   "source": [
    "batch = torch.stack((inputs,inputs), dim=0)\n",
    "print(batch)\n",
    "print(batch.size())"
   ]
  },
  {
   "cell_type": "markdown",
   "id": "13fa1edd-6cd1-4168-93d0-d558210a8e21",
   "metadata": {},
   "source": [
    "#### The CausalAttention class is similar to the selfAttention class , except now we add a dropout and causal mask."
   ]
  },
  {
   "cell_type": "markdown",
   "id": "3ee515f4-2691-4583-84a9-0c671f3b5708",
   "metadata": {},
   "source": [
    "Step 1: Compared to the previous SelfAttention_v1 class, we added a dropout layer.\r\n",
    "    \r\n",
    "Step 2: The register_buffer call is also a new addition (more information is provided in the following text).\r\n",
    "\r\n",
    "Step 3:  We transpose dimensions 1 and 2, keeping the batch dimension at the first position (0).\r\n",
    "\r\n",
    "Step 4: In PyTorch, operations with a trailing underscore are performed in-place, avoiding unnecessary memory\r\n",
    "copies"
   ]
  },
  {
   "cell_type": "code",
   "execution_count": 97,
   "id": "d32af2fb-6349-4d5f-91e7-3a0c8d7d16a0",
   "metadata": {},
   "outputs": [],
   "source": [
    "import torch\n",
    "import torch.nn as nn\n",
    "\n",
    "class CausalAttention(nn.Module):\n",
    "    def __init__(self, d_in, d_out, context_length, dropout=0.0, qkv_bias=True):\n",
    "        super().__init__()\n",
    "        self.W_query = nn.Linear(d_in, d_out, bias=qkv_bias)\n",
    "        self.W_key   = nn.Linear(d_in, d_out, bias=qkv_bias)\n",
    "        self.W_value = nn.Linear(d_in, d_out, bias=qkv_bias)\n",
    "        self.dropout = nn.Dropout(dropout)\n",
    "\n",
    "        # Create causal mask (upper triangular part is masked)\n",
    "        self.register_buffer(\n",
    "            'mask',\n",
    "            torch.triu(torch.ones(context_length, context_length), diagonal=1)\n",
    "        )\n",
    "\n",
    "    def forward(self, x):\n",
    "        b, num_tokens, d_in = x.shape\n",
    "\n",
    "        queries = self.W_query(x)\n",
    "        keys    = self.W_key(x)\n",
    "        values  = self.W_value(x)\n",
    "\n",
    "        # Attention score calculation\n",
    "        attn_scores = queries @ keys.transpose(1, 2)\n",
    "        attn_scores.masked_fill_(\n",
    "            self.mask.bool()[:num_tokens, :num_tokens],\n",
    "            float('-inf')\n",
    "        )\n",
    "\n",
    "        # Apply softmax and dropout\n",
    "        attn_weights = torch.softmax(attn_scores / (keys.shape[-1] ** 0.5), dim=-1)\n",
    "        attn_weights = self.dropout(attn_weights)\n",
    "\n",
    "        # Weighted sum of values\n",
    "        context_vectors = attn_weights @ values\n",
    "        return context_vectors\n"
   ]
  },
  {
   "cell_type": "code",
   "execution_count": 98,
   "id": "92342de5-4266-4b08-8a02-c89e8db1d9c3",
   "metadata": {},
   "outputs": [
    {
     "name": "stdout",
     "output_type": "stream",
     "text": [
      "3\n",
      "2\n"
     ]
    }
   ],
   "source": [
    "print(d_in)\n",
    "print(d_out)"
   ]
  },
  {
   "cell_type": "code",
   "execution_count": 99,
   "id": "183f1f7e-d4bf-41e4-b9f0-3fa8e2b975e2",
   "metadata": {},
   "outputs": [
    {
     "name": "stdout",
     "output_type": "stream",
     "text": [
      "context vectors shape:  tensor([[[-0.0960,  0.7940],\n",
      "         [ 0.0285,  0.9387],\n",
      "         [ 0.0657,  0.9850],\n",
      "         [ 0.1062,  0.9604],\n",
      "         [ 0.0659,  0.9308],\n",
      "         [ 0.1188,  0.9375]],\n",
      "\n",
      "        [[-0.0960,  0.7940],\n",
      "         [ 0.0285,  0.9387],\n",
      "         [ 0.0657,  0.9850],\n",
      "         [ 0.1062,  0.9604],\n",
      "         [ 0.0659,  0.9308],\n",
      "         [ 0.1188,  0.9375]]], grad_fn=<UnsafeViewBackward0>)\n"
     ]
    }
   ],
   "source": [
    "torch.manual_seed(123)\n",
    "cpntext_length = batch.shape[1]\n",
    "ca = CausalAttention(d_in, d_out, context_length, 0.0)\n",
    "context_vecs = ca(batch)\n",
    "print(\"context vectors shape: \", context_vecs)"
   ]
  },
  {
   "cell_type": "markdown",
   "id": "58de9aa7-dc05-4a96-91c3-8f187f383b8f",
   "metadata": {},
   "source": [
    "#### The context vector is a 3D tensor where each token is represented in 2D embedding."
   ]
  },
  {
   "cell_type": "markdown",
   "id": "292e7d83-28ea-4eec-9af7-d38f79116c90",
   "metadata": {},
   "source": [
    "# Extending Single head attention mechanism to Multi-Head attention mechanism."
   ]
  },
  {
   "cell_type": "code",
   "execution_count": 109,
   "id": "55e9bbe0-4cd1-4c6f-b462-b679b1a05025",
   "metadata": {},
   "outputs": [],
   "source": [
    "import torch\n",
    "import torch.nn as nn\n",
    "\n",
    "class MultiHeadAttentionWrapper(nn.Module):\n",
    "    def __init__(self, d_in, d_out, context_length, dropout, num_heads, qkv_bias=False):\n",
    "        super().__init__()\n",
    "        self.heads = nn.ModuleList(\n",
    "            [CausalAttention(d_in, d_out, context_length, dropout, qkv_bias)\n",
    "             for _ in range(num_heads)]\n",
    "        )\n",
    "\n",
    "    def forward(self, x):\n",
    "        return torch.cat([head(x) for head in self.heads], dim=-1)"
   ]
  },
  {
   "cell_type": "markdown",
   "id": "5ddb99de-dc75-4273-8a22-70bd6dbfa642",
   "metadata": {},
   "source": [
    "#### To illustrate concrete example we can implement multihead attention instead of causal attention"
   ]
  },
  {
   "cell_type": "code",
   "execution_count": 112,
   "id": "30f0d98f-559e-424d-a022-6bb80ecf94a7",
   "metadata": {},
   "outputs": [
    {
     "name": "stdout",
     "output_type": "stream",
     "text": [
      "torch.Size([2, 6, 3])\n"
     ]
    }
   ],
   "source": [
    "inputs = torch.tensor(\n",
    "  [[0.43, 0.15, 0.89], # Your     (x^1)\n",
    "   [0.55, 0.87, 0.66], # journey  (x^2)\n",
    "   [0.57, 0.85, 0.64], # starts   (x^3)\n",
    "   [0.22, 0.58, 0.33], # with     (x^4)\n",
    "   [0.77, 0.25, 0.10], # one      (x^5)\n",
    "   [0.05, 0.80, 0.55]] # step     (x^6)\n",
    ")\n",
    "batch = torch.stack((inputs, inputs), dim=0)\n",
    "print(batch.shape) "
   ]
  },
  {
   "cell_type": "code",
   "execution_count": 113,
   "id": "6d3c03cd-c27d-4941-84e8-8f22b7f9c796",
   "metadata": {},
   "outputs": [
    {
     "name": "stdout",
     "output_type": "stream",
     "text": [
      "tensor([[[ 4.6713e-02, -1.9443e-01, -1.8257e-01,  2.8647e-01],\n",
      "         [-4.9652e-02,  9.6792e-02,  1.0829e-01, -1.4360e-01],\n",
      "         [-4.3168e-02,  1.7504e-01,  1.0843e-01, -2.6365e-01],\n",
      "         [ 1.4485e-01,  6.6400e-02, -9.2389e-02, -5.5164e-02],\n",
      "         [-1.3602e-01,  9.9999e-02,  7.2665e-02, -7.1066e-02],\n",
      "         [-1.9666e-02,  2.3785e-03,  7.9720e-02,  5.2377e-03],\n",
      "         [-1.9299e-01,  1.1050e-01,  2.8011e-01, -1.7375e-01],\n",
      "         [-3.6364e-01,  6.3889e-02,  1.4692e-01,  7.4083e-02],\n",
      "         [-2.7781e-01,  6.9530e-02,  4.0929e-01, -2.3019e-01],\n",
      "         [-1.5531e-02,  1.0155e-01,  2.0285e-01, -2.3788e-01]],\n",
      "\n",
      "        [[ 2.0008e+00, -5.2429e-01, -2.0538e+00,  4.2153e-01],\n",
      "         [ 1.2069e+00, -1.0518e-01, -8.2104e-01, -2.4387e-01],\n",
      "         [ 1.1230e+00, -1.4846e-01, -1.0634e+00,  4.4815e-03],\n",
      "         [ 7.2808e-01,  9.1148e-02, -7.0885e-01, -2.1622e-01],\n",
      "         [ 3.9432e-01,  1.1621e-01, -3.8965e-01, -1.9515e-01],\n",
      "         [ 4.8464e-01,  1.7423e-02, -5.6286e-01, -1.3019e-02],\n",
      "         [ 2.3104e-01, -6.2278e-02, -4.8044e-01,  4.1434e-01],\n",
      "         [-1.8330e-03, -5.8331e-02, -2.7707e-02, -1.7532e-01],\n",
      "         [-2.4452e-01,  3.2837e-02,  1.8434e-01, -2.2092e-01],\n",
      "         [ 1.2160e-01,  7.7019e-02, -1.3472e-02, -2.1597e-01]],\n",
      "\n",
      "        [[ 5.5968e-01,  1.6832e-01, -4.0235e-01, -3.3563e-01],\n",
      "         [-1.2893e-01,  2.8017e-01,  1.4779e-01, -3.4852e-01],\n",
      "         [ 1.8519e-01,  1.6825e-01, -1.4180e-02, -2.6376e-01],\n",
      "         [-1.1340e-02,  1.7012e-01, -1.7066e-01, -2.1530e-02],\n",
      "         [ 1.1212e-02,  1.1511e-02, -1.5771e-01,  1.2055e-01],\n",
      "         [ 3.3166e-02,  1.9721e-02, -1.7003e-01,  2.2626e-02],\n",
      "         [ 6.0205e-02,  6.9979e-03, -2.2320e-01,  3.3651e-02],\n",
      "         [ 3.9755e-03,  6.7666e-02, -1.4156e-01, -3.6931e-02],\n",
      "         [ 2.4934e-02,  6.1413e-02, -9.0165e-02, -3.9572e-02],\n",
      "         [ 4.2853e-01,  1.4757e-02, -2.3612e-01, -5.2244e-02]],\n",
      "\n",
      "        [[ 1.5006e-01, -4.4454e-01, -5.3399e-01,  6.7976e-01],\n",
      "         [ 3.4089e-01, -4.1363e-01, -3.5514e-01,  4.1699e-01],\n",
      "         [ 1.5410e+00, -4.3926e-01, -9.2450e-01,  3.0327e-01],\n",
      "         [ 6.0041e-01, -4.1145e-01, -6.5021e-01,  3.8459e-01],\n",
      "         [ 4.7526e-01, -4.0623e-01, -5.8329e-01,  4.1116e-01],\n",
      "         [ 4.0595e-01, -4.2145e-01, -4.5920e-01,  5.6196e-01],\n",
      "         [ 1.0086e+00, -3.5948e-01, -8.3770e-01,  1.3801e-01],\n",
      "         [ 5.5688e-01, -3.7334e-01, -5.3323e-01,  3.9780e-01],\n",
      "         [-2.4191e-02, -4.6618e-01, -3.5844e-01,  6.9853e-01],\n",
      "         [ 1.2154e-02, -3.2059e-01, -3.8087e-01,  4.1258e-01]]],\n",
      "       grad_fn=<CatBackward0>)\n",
      "context_vecs.shape: torch.Size([4, 10, 4])\n"
     ]
    }
   ],
   "source": [
    "torch.manual_seed(123)\n",
    "\n",
    "batch = torch.randn(4, 10, 3)  # (batch_size, sequence_length, d_in)\n",
    "context_length = batch.shape[1]\n",
    "d_in, d_out = 3, 2\n",
    "\n",
    "mha = MultiHeadAttentionWrapper(d_in, d_out, context_length, 0.0, num_heads=2)\n",
    "context_vecs = mha(batch)\n",
    "\n",
    "print(context_vecs)\n",
    "print(\"context_vecs.shape:\", context_vecs.shape)"
   ]
  },
  {
   "cell_type": "markdown",
   "id": "6dd166f8-d260-4efc-acf1-36dc2762f7c7",
   "metadata": {},
   "source": [
    "# Implementing Multi-head with Weight Splits"
   ]
  },
  {
   "cell_type": "code",
   "execution_count": 122,
   "id": "c473a404-f4cf-458a-b27b-af7b6bd669ff",
   "metadata": {},
   "outputs": [],
   "source": [
    "import torch\n",
    "import torch.nn as nn\n",
    "\n",
    "class MultiHeadAttention(nn.Module):\n",
    "    def __init__(self, d_in, d_out, context_length, dropout, num_heads, qkv_bias=False):\n",
    "        super().__init__()\n",
    "        assert d_out % num_heads == 0, \"d_out must be divisible by number of heads\"\n",
    "\n",
    "        self.d_out = d_out\n",
    "        self.num_heads = num_heads\n",
    "        self.head_dim = d_out // num_heads\n",
    "\n",
    "        self.W_query = nn.Linear(d_in, d_out, bias=qkv_bias)\n",
    "        self.W_key = nn.Linear(d_in, d_out, bias=qkv_bias)\n",
    "        self.W_value = nn.Linear(d_in, d_out, bias=qkv_bias)\n",
    "        self.out_proj = nn.Linear(d_out, d_out)\n",
    "        self.dropout = nn.Dropout(dropout)\n",
    "\n",
    "        self.register_buffer(\n",
    "            \"mask\",\n",
    "            torch.triu(torch.ones(context_length, context_length), diagonal=1)\n",
    "        )\n",
    "\n",
    "    def forward(self, x):\n",
    "        b, num_tokens, _ = x.shape\n",
    "\n",
    "        # Linear projections\n",
    "        queries = self.W_query(x)\n",
    "        keys = self.W_key(x)\n",
    "        values = self.W_value(x)\n",
    "\n",
    "        # Reshape and transpose for multi-head attention\n",
    "        queries = queries.view(b, num_tokens, self.num_heads, self.head_dim).transpose(1, 2)\n",
    "        keys = keys.view(b, num_tokens, self.num_heads, self.head_dim).transpose(1, 2)\n",
    "        values = values.view(b, num_tokens, self.num_heads, self.head_dim).transpose(1, 2)\n",
    "\n",
    "        # Scaled dot-product attention\n",
    "        attn_scores = queries @ keys.transpose(-2, -1)\n",
    "        attn_scores = attn_scores / (self.head_dim ** 0.5)\n",
    "\n",
    "        # Apply causal mask\n",
    "        mask_bool = self.mask.bool()[:num_tokens, :num_tokens]\n",
    "        attn_scores = attn_scores.masked_fill(mask_bool, float('-inf'))\n",
    "\n",
    "        # Softmax and dropout\n",
    "        attn_weights = torch.softmax(attn_scores, dim=-1)\n",
    "        attn_weights = self.dropout(attn_weights)\n",
    "\n",
    "        # Apply attention weights to values\n",
    "        context_vec = attn_weights @ values\n",
    "        context_vec = context_vec.transpose(1, 2).contiguous().view(b, num_tokens, self.d_out)\n",
    "\n",
    "        # Final projection\n",
    "        context_vec = self.out_proj(context_vec)\n",
    "\n",
    "        return context_vec\n"
   ]
  },
  {
   "cell_type": "markdown",
   "id": "aedc60ac-9636-4808-9a3f-d09029590e14",
   "metadata": {},
   "source": [
    "#### Multi-Head Attention Class"
   ]
  },
  {
   "cell_type": "code",
   "execution_count": 123,
   "id": "d8eca7ae-3c22-431e-9f81-3f3add8accd5",
   "metadata": {},
   "outputs": [
    {
     "name": "stdout",
     "output_type": "stream",
     "text": [
      "torch.Size([2, 3, 6])\n",
      "tensor([[[ 0.1569, -0.0873,  0.0210,  0.0215, -0.3243, -0.2518],\n",
      "         [ 0.1117, -0.0547,  0.0406, -0.0213, -0.3251, -0.2993],\n",
      "         [ 0.1196, -0.0491,  0.0318, -0.0635, -0.2788, -0.2578]],\n",
      "\n",
      "        [[ 0.1569, -0.0873,  0.0210,  0.0215, -0.3243, -0.2518],\n",
      "         [ 0.1117, -0.0547,  0.0406, -0.0213, -0.3251, -0.2993],\n",
      "         [ 0.1196, -0.0491,  0.0318, -0.0635, -0.2788, -0.2578]]],\n",
      "       grad_fn=<ViewBackward0>)\n",
      "context_vecs.shape: torch.Size([2, 3, 6])\n"
     ]
    }
   ],
   "source": [
    "torch.manual_seed(123)\n",
    "\n",
    "# Define the tensor with 3 rows and 6 columns\n",
    "inputs = torch.tensor(\n",
    "    [[0.43, 0.15, 0.89, 0.55, 0.87, 0.66],  # Row 1\n",
    "     [0.57, 0.85, 0.64, 0.22, 0.58, 0.33],  # Row 2\n",
    "     [0.77, 0.25, 0.10, 0.05, 0.80, 0.55]]  # Row 3\n",
    ")\n",
    "\n",
    "batch = torch.stack((inputs, inputs), dim=0)\n",
    "print(batch.shape) \n",
    "\n",
    "batch_size, context_length, d_in = batch.shape\n",
    "d_out = 6\n",
    "mha = MultiHeadAttention(d_in, d_out, context_length, 0.0, num_heads=2)\n",
    "context_vecs = mha(batch)\n",
    "print(context_vecs)\n",
    "print(\"context_vecs.shape:\", context_vecs.shape)"
   ]
  },
  {
   "cell_type": "markdown",
   "id": "a490d9df-f51f-45db-aaa6-87048b5382bd",
   "metadata": {},
   "source": [
    "# Implementing a GPT Model from Scratch to Generate Text"
   ]
  },
  {
   "cell_type": "code",
   "execution_count": 124,
   "id": "dd5236c3-82eb-4598-b20e-ded532b7f68c",
   "metadata": {},
   "outputs": [],
   "source": [
    "GPT_CONFIG_124M = {\n",
    "    \"vocab_size\": 50257,    # Vocabulary size\n",
    "    \"context_length\": 1024, # Context length\n",
    "    \"emb_dim\": 768,         # Embedding dimension\n",
    "    \"n_heads\": 12,          # Number of attention heads\n",
    "    \"n_layers\": 12,         # Number of layers\n",
    "    \"drop_rate\": 0.1,       # Dropout rate\n",
    "    \"qkv_bias\": False       # Query-Key-Value bias\n",
    "}"
   ]
  },
  {
   "cell_type": "markdown",
   "id": "fa5381ca-c2e4-4047-b46d-bd0e1a3760ea",
   "metadata": {},
   "source": [
    "#### GPT Architectre Part 1 : Implementing Dummy GPT Model"
   ]
  },
  {
   "cell_type": "markdown",
   "id": "d5290d92-d7d9-476e-9f2c-3020ddf9b4bf",
   "metadata": {},
   "source": [
    "1. Use placeholder transformer block\n",
    "2. Use placeholder for layer normalization"
   ]
  },
  {
   "cell_type": "code",
   "execution_count": null,
   "id": "e1d3cf20-b7ff-4996-b4a8-dcafabeb0073",
   "metadata": {},
   "outputs": [],
   "source": [
    "class DummyGPTModel(nn.Module):\n",
    "    def __inti__(self, cfg):\n",
    "        super().__init__()\n",
    "        self.tok_emb = nn.Embeddings(cfg[\"vocab_size\"], cfg[\"emb_dim\"])\n",
    "        self.pos_emb = nn.Embeddings(cfg[\"context_length\"],cfg[\"emb_dim\"])\n",
    "        self.drop_emb = nn.Embeddingd(cfg[\"drop_emb\"])\n",
    "\n",
    "        # Use placeholder for TransformerBlock\n",
    "        self.trf_blocks = nn.Sequentials(\n",
    "            *[DummytransformerBlock(cfg) for _ in range(cfg[\"n_layer\"])])\n",
    "\n",
    "        # Use placeholder for LayerNorm\n",
    "        self.final_norm = DummyLayerNorm(cfg[\"emb_dim\"])\n",
    "        self.out_head = nn.Linear"
   ]
  }
 ],
 "metadata": {
  "kernelspec": {
   "display_name": "Python 3 (ipykernel)",
   "language": "python",
   "name": "python3"
  },
  "language_info": {
   "codemirror_mode": {
    "name": "ipython",
    "version": 3
   },
   "file_extension": ".py",
   "mimetype": "text/x-python",
   "name": "python",
   "nbconvert_exporter": "python",
   "pygments_lexer": "ipython3",
   "version": "3.12.3"
  }
 },
 "nbformat": 4,
 "nbformat_minor": 5
}
