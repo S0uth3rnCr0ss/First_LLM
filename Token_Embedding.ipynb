{
 "cells": [
  {
   "cell_type": "code",
   "execution_count": 4,
   "id": "bd087655-95c7-4dbe-81e1-be4346116340",
   "metadata": {},
   "outputs": [
    {
     "name": "stdout",
     "output_type": "stream",
     "text": [
      "Collecting gensim\n",
      "  Downloading gensim-4.3.3-cp38-cp38-win_amd64.whl.metadata (8.2 kB)\n",
      "Requirement already satisfied: numpy<2.0,>=1.18.5 in c:\\users\\abhin\\downloads\\sensorproject01-main (1)\\sensorproject01-main\\venv\\lib\\site-packages (from gensim) (1.24.4)\n",
      "Requirement already satisfied: scipy<1.14.0,>=1.7.0 in c:\\users\\abhin\\downloads\\sensorproject01-main (1)\\sensorproject01-main\\venv\\lib\\site-packages (from gensim) (1.10.1)\n",
      "Collecting smart-open>=1.8.1 (from gensim)\n",
      "  Downloading smart_open-7.1.0-py3-none-any.whl.metadata (24 kB)\n",
      "Collecting wrapt (from smart-open>=1.8.1->gensim)\n",
      "  Downloading wrapt-1.17.2-cp38-cp38-win_amd64.whl.metadata (6.5 kB)\n",
      "Downloading gensim-4.3.3-cp38-cp38-win_amd64.whl (24.0 MB)\n",
      "   ---------------------------------------- 0.0/24.0 MB ? eta -:--:--\n",
      "   ----- ---------------------------------- 3.1/24.0 MB 20.6 MB/s eta 0:00:02\n",
      "   ------ --------------------------------- 4.2/24.0 MB 11.5 MB/s eta 0:00:02\n",
      "   ------ --------------------------------- 4.2/24.0 MB 11.5 MB/s eta 0:00:02\n",
      "   -------- ------------------------------- 5.2/24.0 MB 8.2 MB/s eta 0:00:03\n",
      "   ----------------- ---------------------- 10.5/24.0 MB 10.2 MB/s eta 0:00:02\n",
      "   -------------------- ------------------- 12.6/24.0 MB 11.8 MB/s eta 0:00:01\n",
      "   --------------------------- ------------ 16.8/24.0 MB 12.4 MB/s eta 0:00:01\n",
      "   ------------------------------- -------- 18.9/24.0 MB 11.7 MB/s eta 0:00:01\n",
      "   ---------------------------------- ----- 21.0/24.0 MB 11.3 MB/s eta 0:00:01\n",
      "   ---------------------------------- ----- 21.0/24.0 MB 11.3 MB/s eta 0:00:01\n",
      "   -------------------------------------- - 23.1/24.0 MB 10.9 MB/s eta 0:00:01\n",
      "   ---------------------------------------- 24.0/24.0 MB 9.7 MB/s eta 0:00:00\n",
      "Downloading smart_open-7.1.0-py3-none-any.whl (61 kB)\n",
      "Downloading wrapt-1.17.2-cp38-cp38-win_amd64.whl (38 kB)\n",
      "Installing collected packages: wrapt, smart-open, gensim\n",
      "Successfully installed gensim-4.3.3 smart-open-7.1.0 wrapt-1.17.2\n"
     ]
    }
   ],
   "source": [
    "!pip install gensim"
   ]
  },
  {
   "cell_type": "code",
   "execution_count": 12,
   "id": "72daaa2a-4b56-45e7-b26a-08aec927d5b6",
   "metadata": {},
   "outputs": [],
   "source": [
    "import gensim.downloader as api\n",
    "model = api.load(\"word2vec-google-news-300\")"
   ]
  },
  {
   "cell_type": "code",
   "execution_count": null,
   "id": "d65dfc0d-9f19-4770-85e6-2d0a73fe4203",
   "metadata": {},
   "outputs": [],
   "source": []
  }
 ],
 "metadata": {
  "kernelspec": {
   "display_name": "Python [conda env:venv]",
   "language": "python",
   "name": "conda-env-venv-py"
  },
  "language_info": {
   "codemirror_mode": {
    "name": "ipython",
    "version": 3
   },
   "file_extension": ".py",
   "mimetype": "text/x-python",
   "name": "python",
   "nbconvert_exporter": "python",
   "pygments_lexer": "ipython3",
   "version": "3.8.0"
  }
 },
 "nbformat": 4,
 "nbformat_minor": 5
}
