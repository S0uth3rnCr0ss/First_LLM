{
 "cells": [
  {
   "cell_type": "markdown",
   "id": "b8ad44f1-3872-430b-bcaa-4f9a5e52f928",
   "metadata": {},
   "source": [
    "# Creating Tokens"
   ]
  },
  {
   "cell_type": "code",
   "execution_count": 3,
   "id": "ae8fe43a-5541-45a0-8575-bb9748127291",
   "metadata": {},
   "outputs": [
    {
     "name": "stdout",
     "output_type": "stream",
     "text": [
      "Total number of characters: 20480\n",
      "I HAD always thought Jack Gisburn rather a cheap genius--though a good fellow enough--so it was no \n"
     ]
    }
   ],
   "source": [
    "with open(\"the-verdict (1).txt\",\"r\",encoding=\"utf-8\") as f:\n",
    "    raw_text = f.read()\n",
    "\n",
    "print(\"Total number of characters:\", len(raw_text))\n",
    "print(raw_text[:99])"
   ]
  },
  {
   "cell_type": "markdown",
   "id": "9182066d-d9f3-4fa6-b87e-7154d4054aa1",
   "metadata": {},
   "source": [
    "#### Goal is to tokenize all the characters in the txt file that can be later turned into embeddings for LLMs"
   ]
  },
  {
   "cell_type": "code",
   "execution_count": 5,
   "id": "e3dc1305-19fb-4d6c-933f-0ba36aceb8ef",
   "metadata": {},
   "outputs": [
    {
     "name": "stdout",
     "output_type": "stream",
     "text": [
      "['Hello,', ' ', 'world.', ' ', 'This,', ' ', 'is', ' ', 'a', ' ', 'test.']\n"
     ]
    }
   ],
   "source": [
    "import re\n",
    "\n",
    "text = \"Hello, world. This, is a test.\"\n",
    "result = re.split(r'(\\s)',text)\n",
    "\n",
    "print(result) # result of individual words , whitespaces an punctuation characters"
   ]
  },
  {
   "cell_type": "code",
   "execution_count": 6,
   "id": "287c47de-210b-4d3e-a09e-b17fc7b416da",
   "metadata": {},
   "outputs": [
    {
     "name": "stdout",
     "output_type": "stream",
     "text": [
      "['Hello', ',', '', ' ', 'world', '.', '', ' ', 'This', ',', '', ' ', 'is', ' ', 'a', ' ', 'test', '.', '']\n"
     ]
    }
   ],
   "source": [
    "result = re.split(r'([,.]|\\s)',text)\n",
    "print(result)"
   ]
  },
  {
   "cell_type": "code",
   "execution_count": 7,
   "id": "d781b618-d967-4c7f-8804-87a19114baf7",
   "metadata": {},
   "outputs": [
    {
     "name": "stdout",
     "output_type": "stream",
     "text": [
      "['Hello', ',', 'world', '.', 'This', ',', 'is', 'a', 'test', '.']\n"
     ]
    }
   ],
   "source": [
    "# This will prevent the spaces to be considered as tokens\n",
    "result = [item for item in result if item.strip()]\n",
    "print(result)"
   ]
  },
  {
   "cell_type": "code",
   "execution_count": 8,
   "id": "590ce4e3-324e-4e72-9282-2ab898c8b46a",
   "metadata": {},
   "outputs": [
    {
     "name": "stdout",
     "output_type": "stream",
     "text": [
      "['Hello', ',', 'world', '.', 'Is', 'this', '--', 'a', 'test', '?']\n"
     ]
    }
   ],
   "source": [
    "text = \"Hello, world. Is this-- a test?\"\n",
    "\n",
    "result = re.split(r'([,.:;?_!\"()|\\-\\s]+)', text)\n",
    "result = [item.strip() for item in result if item.strip()]\n",
    "print(result)\n"
   ]
  },
  {
   "cell_type": "code",
   "execution_count": 9,
   "id": "737a0a9d-1c0c-4464-bd62-28c70ebc4f10",
   "metadata": {},
   "outputs": [
    {
     "name": "stdout",
     "output_type": "stream",
     "text": [
      "['I', 'HAD', 'always', 'thought', 'Jack', 'Gisburn', 'rather', 'a', 'cheap', 'genius', '-', '-', 'though', 'a', 'good', 'fellow', 'enough', '-', '-', 'so', 'it', 'was', 'no', 'great', 'surprise', 'to', 'me', 'to', 'hear', 'that']\n"
     ]
    }
   ],
   "source": [
    "preprocessed = re.split(r'([,.:;?_!\"()|\\-\\s])',raw_text)\n",
    "preprocessed = [item.strip() for item in preprocessed if item.strip()]\n",
    "\n",
    "print(preprocessed[:30])"
   ]
  },
  {
   "cell_type": "code",
   "execution_count": 10,
   "id": "b01ecb03-c158-4b00-b172-abd3d2c817e9",
   "metadata": {},
   "outputs": [
    {
     "name": "stdout",
     "output_type": "stream",
     "text": [
      "4692\n"
     ]
    }
   ],
   "source": [
    "print(len(preprocessed))"
   ]
  },
  {
   "cell_type": "markdown",
   "id": "8394af55-88db-42d9-b260-f1daa17ef874",
   "metadata": {},
   "source": [
    " # Creating Token IDs"
   ]
  },
  {
   "cell_type": "code",
   "execution_count": 12,
   "id": "5bf063b3-59c6-408d-92c4-a25baaf1cace",
   "metadata": {},
   "outputs": [
    {
     "name": "stdout",
     "output_type": "stream",
     "text": [
      "1163\n"
     ]
    }
   ],
   "source": [
    "all_words = sorted(set(preprocessed))\n",
    "vocab_size = len(all_words)\n",
    "\n",
    "print(vocab_size)"
   ]
  },
  {
   "cell_type": "code",
   "execution_count": 13,
   "id": "bdaa5afb-a8a4-4dab-8847-c3fd665bcfa9",
   "metadata": {},
   "outputs": [],
   "source": [
    " vocab = {token:integer for integer, token in enumerate(all_words)}"
   ]
  },
  {
   "cell_type": "code",
   "execution_count": 14,
   "id": "43c113bc-7311-4017-80cb-bd89e1a93e7c",
   "metadata": {},
   "outputs": [
    {
     "name": "stdout",
     "output_type": "stream",
     "text": [
      "('!', 0)\n",
      "('\"', 1)\n",
      "(\"'\", 2)\n",
      "(\"'Are\", 3)\n",
      "(\"'It's\", 4)\n",
      "(\"'coming'\", 5)\n",
      "(\"'done'\", 6)\n",
      "(\"'subject\", 7)\n",
      "(\"'technique'\", 8)\n",
      "(\"'way\", 9)\n",
      "('(', 10)\n",
      "(')', 11)\n",
      "(',', 12)\n",
      "('-', 13)\n",
      "('.', 14)\n",
      "(':', 15)\n",
      "(';', 16)\n",
      "('?', 17)\n",
      "('A', 18)\n",
      "('Ah', 19)\n",
      "('Among', 20)\n",
      "('And', 21)\n",
      "('Arrt', 22)\n",
      "('As', 23)\n",
      "('At', 24)\n",
      "('Be', 25)\n",
      "('Begin', 26)\n",
      "('Burlington', 27)\n",
      "('But', 28)\n",
      "('By', 29)\n",
      "('Carlo', 30)\n",
      "('Chicago', 31)\n",
      "('Claude', 32)\n",
      "('Come', 33)\n",
      "('Croft', 34)\n",
      "('Destroyed', 35)\n",
      "('Devonshire', 36)\n",
      "(\"Don't\", 37)\n",
      "('Dubarry', 38)\n",
      "('Emperors', 39)\n",
      "('Florence', 40)\n",
      "('For', 41)\n",
      "('Gallery', 42)\n",
      "('Gideon', 43)\n",
      "('Gisburn', 44)\n",
      "(\"Gisburn's\", 45)\n",
      "('Gisburns', 46)\n",
      "('Grafton', 47)\n",
      "('Greek', 48)\n",
      "('Grindle', 49)\n",
      "(\"Grindle's\", 50)\n"
     ]
    }
   ],
   "source": [
    "for i, item in enumerate(vocab.items()):\n",
    "    print(item)\n",
    "    if i >= 50:\n",
    "        break "
   ]
  },
  {
   "cell_type": "code",
   "execution_count": 15,
   "id": "bdb7216a-e272-42e7-a6b2-ae0b7f4d18ff",
   "metadata": {},
   "outputs": [],
   "source": [
    "class SimpleTokenizer:\n",
    "    def __init__(self,vocab):\n",
    "        self.str_to_int = vocab\n",
    "        self.int_to_str = {i:s for s,i in vocab.items()}\n",
    "        \n",
    "    def encode(self,text):\n",
    "        preprocessed = re.split(r'([,.:;?_!\"()\\-\\s])',text)\n",
    "        processed = [\n",
    "            item.strip() for item in preprocessed if item.strip()\n",
    "        ]\n",
    "        ids = [self.str_to_int[s] for s in preprocessed if s.strip() and s in self.str_to_int]\n",
    "        return ids\n",
    "        \n",
    "    def decode(self,ids):\n",
    "        text = \" \".join([self.int_to_str[i] for i in ids])\n",
    "        # Replace spaces before the specified punctuations\n",
    "        text = re.sub(r's+([,.?!\"()\\'])',r'\\1', text)\n",
    "        return text"
   ]
  },
  {
   "cell_type": "markdown",
   "id": "173b1a85-ee36-4902-8b34-8ea53139b4bd",
   "metadata": {},
   "source": [
    "#### Instantiate a tokenizer object from the tokenizer class"
   ]
  },
  {
   "cell_type": "code",
   "execution_count": 17,
   "id": "31fa9c14-8701-4051-afd1-d0deea297080",
   "metadata": {},
   "outputs": [
    {
     "name": "stdout",
     "output_type": "stream",
     "text": [
      "[1, 1, 69, 1016, 627, 552, 772, 12, 1157, 621, 12, 1, 81, 14, 44, 879, 1046, 781, 822, 14]\n"
     ]
    }
   ],
   "source": [
    "tokenizer = SimpleTokenizer(vocab)\n",
    "\n",
    "text = \"\"\"\"\" It's the last he painted, you know,\"\n",
    "             Mrs. Gisburn said to pardonable pride.\"\"\"\n",
    "\n",
    "ids = tokenizer.encode(text)\n",
    "print(ids)"
   ]
  },
  {
   "cell_type": "code",
   "execution_count": 18,
   "id": "541eaad4-5f71-4a69-a410-84f5e2889713",
   "metadata": {},
   "outputs": [
    {
     "data": {
      "text/plain": [
       "'\" \" It\\'s the last he painted , you know , \" Mrs . Gisburn said to pardonable pride .'"
      ]
     },
     "execution_count": 18,
     "metadata": {},
     "output_type": "execute_result"
    }
   ],
   "source": [
    "tokenizer.decode(ids)"
   ]
  },
  {
   "cell_type": "markdown",
   "id": "6bf1f709-3392-4091-a123-8446fcc6f103",
   "metadata": {},
   "source": [
    "# Special Context Tokens\n",
    "\n",
    "### These are something that are used to deal with the unknown words which\n",
    "### are not present in the training vocubulary or training data."
   ]
  },
  {
   "cell_type": "markdown",
   "id": "7e1ab7f8-d181-401c-ad92-717ace99485d",
   "metadata": {},
   "source": [
    "#### Here simpleTokenizer is modified"
   ]
  },
  {
   "cell_type": "code",
   "execution_count": 21,
   "id": "ea82aece-98dd-4a87-94a1-7ace6d76ecfd",
   "metadata": {},
   "outputs": [],
   "source": [
    "all_tokens = sorted(list(set(preprocessed)))\n",
    "all_tokens.extend([\"<|endoftext|>\",\"<|unk|>\"])\n",
    "\n",
    "vocab = {token:integer for integer, token in enumerate(all_tokens)}"
   ]
  },
  {
   "cell_type": "code",
   "execution_count": 22,
   "id": "3d5e8d61-9d17-46c9-8537-9ea311aa7392",
   "metadata": {},
   "outputs": [
    {
     "data": {
      "text/plain": [
       "1165"
      ]
     },
     "execution_count": 22,
     "metadata": {},
     "output_type": "execute_result"
    }
   ],
   "source": [
    "len(vocab.items())"
   ]
  },
  {
   "cell_type": "code",
   "execution_count": 23,
   "id": "73f68880-f09d-4dbd-a6ec-21b019fdf250",
   "metadata": {},
   "outputs": [
    {
     "name": "stdout",
     "output_type": "stream",
     "text": [
      "('yourself', 1162)\n",
      "('<|endoftext|>', 1163)\n",
      "('<|unk|>', 1164)\n"
     ]
    }
   ],
   "source": [
    "for i, item in enumerate(list(vocab.items())[-3:]):\n",
    "    print(item)"
   ]
  },
  {
   "cell_type": "code",
   "execution_count": 24,
   "id": "946936d1-0069-4709-bf6c-eda8858db2d5",
   "metadata": {},
   "outputs": [],
   "source": [
    "# Modification in SimpleTokenizer\n",
    "\n",
    "class SimpleTokenizerV2:\n",
    "    def __init__(self,vocab):\n",
    "        self.str_to_int = vocab\n",
    "        self.int_to_str = {i: s for s, i in vocab.items()}\n",
    "        \n",
    "    def encode(self,text):\n",
    "        preprocessed = re.split(r'([,.:;?_!\"()\\-\\s])',text)\n",
    "        preprocessed = [item.strip() for item in preprocessed if item.strip()]\n",
    "        preprocessed = [\n",
    "            item if item in self.str_to_int\n",
    "            else \"<|unk|>\" for item in preprocessed \n",
    "        ]\n",
    "        ids = [self.str_to_int[s] for s in preprocessed if s.strip() and s in self.str_to_int]\n",
    "        return ids\n",
    "        \n",
    "    def decode(self, ids):\n",
    "        text = \" \".join([self.int_to_str[i] for i in ids])\n",
    "        # Replace spaces before the specified punctuations\n",
    "        text = re.sub(r'\\s+([,.:;?!\"()\\'])', r'\\1', text)\n",
    "        return text"
   ]
  },
  {
   "cell_type": "code",
   "execution_count": 25,
   "id": "bd5d952e-959f-4829-8cf1-738ad7ef86b7",
   "metadata": {},
   "outputs": [
    {
     "name": "stdout",
     "output_type": "stream",
     "text": [
      "Hello, do you like tea? <|endoftext|> in the sunlit terrace of the palace.\n"
     ]
    }
   ],
   "source": [
    "tokenizer = SimpleTokenizerV2(vocab)\n",
    "\n",
    "text1 = \"Hello, do you like tea?\"\n",
    "text2 = \"in the sunlit terrace of the palace.\"\n",
    "\n",
    "text = \" <|endoftext|> \".join((text1,text2))\n",
    "\n",
    "print(text)\n"
   ]
  },
  {
   "cell_type": "code",
   "execution_count": 26,
   "id": "e21f4d11-4be9-402b-aed8-a9fd6f36a26f",
   "metadata": {},
   "outputs": [
    {
     "data": {
      "text/plain": [
       "[1164,\n",
       " 12,\n",
       " 378,\n",
       " 1157,\n",
       " 653,\n",
       " 1004,\n",
       " 17,\n",
       " 1163,\n",
       " 592,\n",
       " 1016,\n",
       " 986,\n",
       " 1011,\n",
       " 748,\n",
       " 1016,\n",
       " 1164,\n",
       " 14]"
      ]
     },
     "execution_count": 26,
     "metadata": {},
     "output_type": "execute_result"
    }
   ],
   "source": [
    "tokenizer.encode(text)"
   ]
  },
  {
   "cell_type": "code",
   "execution_count": 27,
   "id": "283c618d-2ff4-4075-a79b-4cc876b28898",
   "metadata": {},
   "outputs": [
    {
     "data": {
      "text/plain": [
       "'<|unk|>, do you like tea? <|endoftext|> in the sunlit terrace of the <|unk|>.'"
      ]
     },
     "execution_count": 27,
     "metadata": {},
     "output_type": "execute_result"
    }
   ],
   "source": [
    "tokenizer.decode(tokenizer.encode(text))"
   ]
  },
  {
   "cell_type": "markdown",
   "id": "efde5f4a-65bf-4dd7-937d-204fbbb0960a",
   "metadata": {},
   "source": [
    "# Byte Pair Encoding"
   ]
  },
  {
   "cell_type": "code",
   "execution_count": 50,
   "id": "50539023-c281-45c2-9df6-12ec8ff57b2c",
   "metadata": {},
   "outputs": [
    {
     "name": "stdout",
     "output_type": "stream",
     "text": [
      "Collecting tiktoken\n",
      "  Downloading tiktoken-0.7.0-cp38-cp38-win_amd64.whl.metadata (6.8 kB)\n",
      "Collecting regex>=2022.1.18 (from tiktoken)\n",
      "  Downloading regex-2024.11.6-cp38-cp38-win_amd64.whl.metadata (41 kB)\n",
      "Requirement already satisfied: requests>=2.26.0 in c:\\users\\abhin\\downloads\\sensorproject01-main (1)\\sensorproject01-main\\venv\\lib\\site-packages (from tiktoken) (2.32.3)\n",
      "Requirement already satisfied: charset-normalizer<4,>=2 in c:\\users\\abhin\\downloads\\sensorproject01-main (1)\\sensorproject01-main\\venv\\lib\\site-packages (from requests>=2.26.0->tiktoken) (3.3.2)\n",
      "Requirement already satisfied: idna<4,>=2.5 in c:\\users\\abhin\\downloads\\sensorproject01-main (1)\\sensorproject01-main\\venv\\lib\\site-packages (from requests>=2.26.0->tiktoken) (3.10)\n",
      "Requirement already satisfied: urllib3<3,>=1.21.1 in c:\\users\\abhin\\downloads\\sensorproject01-main (1)\\sensorproject01-main\\venv\\lib\\site-packages (from requests>=2.26.0->tiktoken) (1.26.20)\n",
      "Requirement already satisfied: certifi>=2017.4.17 in c:\\users\\abhin\\downloads\\sensorproject01-main (1)\\sensorproject01-main\\venv\\lib\\site-packages (from requests>=2.26.0->tiktoken) (2024.8.30)\n",
      "Downloading tiktoken-0.7.0-cp38-cp38-win_amd64.whl (798 kB)\n",
      "   ---------------------------------------- 0.0/798.9 kB ? eta -:--:--\n",
      "   ------------- -------------------------- 262.1/798.9 kB ? eta -:--:--\n",
      "   ------------- -------------------------- 262.1/798.9 kB ? eta -:--:--\n",
      "   ------------------------ ------------- 524.3/798.9 kB 645.7 kB/s eta 0:00:01\n",
      "   -------------------------------------- 798.9/798.9 kB 953.4 kB/s eta 0:00:00\n",
      "Downloading regex-2024.11.6-cp38-cp38-win_amd64.whl (274 kB)\n",
      "Installing collected packages: regex, tiktoken\n",
      "Successfully installed regex-2024.11.6 tiktoken-0.7.0\n"
     ]
    }
   ],
   "source": [
    "!pip install tiktoken"
   ]
  },
  {
   "cell_type": "code",
   "execution_count": 52,
   "id": "fd5390ad-624f-4055-9262-0f01058768b8",
   "metadata": {},
   "outputs": [],
   "source": [
    "import importlib\n",
    "import tiktoken"
   ]
  },
  {
   "cell_type": "code",
   "execution_count": 56,
   "id": "8f95c92b-f628-4f20-8597-addc361ed420",
   "metadata": {},
   "outputs": [],
   "source": [
    "tokenizer = tiktoken.get_encoding(\"gpt2\")"
   ]
  },
  {
   "cell_type": "code",
   "execution_count": 58,
   "id": "97371d85-146d-4a55-ad54-e490d3fa331f",
   "metadata": {},
   "outputs": [
    {
     "name": "stdout",
     "output_type": "stream",
     "text": [
      "[15496, 466, 345, 588, 8887, 30, 220, 50256, 554, 262, 4252, 18250, 8812, 2114, 1659, 617, 34680, 27271, 13]\n"
     ]
    }
   ],
   "source": [
    "text = (\n",
    "    \"Hello do you like tea? <|endoftext|> In the sunlit terraces\"\n",
    "    \"of someunknownPlace.\"\n",
    ")\n",
    "\n",
    "integers = tokenizer.encode(text, allowed_special={\"<|endoftext|>\"})\n",
    "\n",
    "print(integers)"
   ]
  },
  {
   "cell_type": "code",
   "execution_count": 62,
   "id": "b037f413-5159-4b28-92f0-fc0c96f69375",
   "metadata": {},
   "outputs": [
    {
     "name": "stdout",
     "output_type": "stream",
     "text": [
      "Hello do you like tea? <|endoftext|> In the sunlit terracesof someunknownPlace.\n"
     ]
    }
   ],
   "source": [
    "strings = tokenizer.decode(integers)\n",
    "print(strings)"
   ]
  },
  {
   "cell_type": "markdown",
   "id": "053c51e5-b97d-4da1-bb6e-b1d4c4e8a3f3",
   "metadata": {},
   "source": [
    "# Data Sampling With Sliding Window"
   ]
  },
  {
   "cell_type": "code",
   "execution_count": null,
   "id": "76f73035-7875-4834-8350-8d548af1f038",
   "metadata": {},
   "outputs": [],
   "source": []
  }
 ],
 "metadata": {
  "kernelspec": {
   "display_name": "Python [conda env:venv]",
   "language": "python",
   "name": "conda-env-venv-py"
  },
  "language_info": {
   "codemirror_mode": {
    "name": "ipython",
    "version": 3
   },
   "file_extension": ".py",
   "mimetype": "text/x-python",
   "name": "python",
   "nbconvert_exporter": "python",
   "pygments_lexer": "ipython3",
   "version": "3.8.0"
  }
 },
 "nbformat": 4,
 "nbformat_minor": 5
}
